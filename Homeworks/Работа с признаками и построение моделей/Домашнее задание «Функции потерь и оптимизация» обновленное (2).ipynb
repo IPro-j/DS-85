{
 "cells": [
  {
   "cell_type": "markdown",
   "id": "be18add5",
   "metadata": {},
   "source": [
    "Описание задания:\n",
    "В домашнем задании необходимо применить полученные знания в теории оптимизации и машинном обучении для реализации логистической регрессии.\n",
    "Этапы работы:**\n",
    "\n",
    "1.Загрузите данные. Используйте датасет с ирисами. Его можно загрузить непосредственно из библиотеки Sklearn. \n",
    "В данных оставьте только 2 класса: Iris Versicolor, Iris Virginica.\n",
    "\n",
    "2.Самостоятельно реализуйте логистическую регрессию, без использования метода LogisticRegression из библиотеки. Можете использовать библиотеки pandas, numpy, math для реализации. Оформите в виде функции. *Оформите в виде класса с методами.\n",
    "\n",
    "3.Реализуйте метод градиентного спуска. Обучите логистическую регрессию этим методом. Выберете и посчитайте метрику качества. Метрика должна быть одинакова для всех пунктов домашнего задания. Для упрощения сравнения выберете только одну метрику.\n",
    "\n",
    "4.Повторите п. 3 для метода скользящего среднего (Root Mean Square Propagation, RMSProp).\n",
    "\n",
    "5.Повторите п. 3 для ускоренного по Нестерову метода адаптивной оценки моментов (Nesterov–accelerated Adaptive Moment Estimation, Nadam).\n",
    "\n",
    "6.Сравните значение метрик для реализованных методов оптимизации. Можно оформить в виде таблицы вида |метод|метрика|время работы| (время работы опционально). Напишите вывод."
   ]
  },
  {
   "cell_type": "code",
   "execution_count": 79,
   "id": "b790ac72",
   "metadata": {},
   "outputs": [],
   "source": [
    "from sklearn.datasets import load_iris\n",
    "from sklearn.model_selection import train_test_split\n",
    "import matplotlib.pyplot as plt\n",
    "import pandas as pd\n",
    "import numpy as np\n",
    "from sklearn.datasets import make_classification\n",
    "import seaborn as sns"
   ]
  },
  {
   "cell_type": "code",
   "execution_count": 62,
   "id": "2b516aaa",
   "metadata": {},
   "outputs": [
    {
     "data": {
      "text/html": [
       "<div>\n",
       "<style scoped>\n",
       "    .dataframe tbody tr th:only-of-type {\n",
       "        vertical-align: middle;\n",
       "    }\n",
       "\n",
       "    .dataframe tbody tr th {\n",
       "        vertical-align: top;\n",
       "    }\n",
       "\n",
       "    .dataframe thead th {\n",
       "        text-align: right;\n",
       "    }\n",
       "</style>\n",
       "<table border=\"1\" class=\"dataframe\">\n",
       "  <thead>\n",
       "    <tr style=\"text-align: right;\">\n",
       "      <th></th>\n",
       "      <th>sepal length (cm)</th>\n",
       "      <th>sepal width (cm)</th>\n",
       "      <th>petal length (cm)</th>\n",
       "      <th>petal width (cm)</th>\n",
       "      <th>target</th>\n",
       "    </tr>\n",
       "  </thead>\n",
       "  <tbody>\n",
       "    <tr>\n",
       "      <th>50</th>\n",
       "      <td>7.0</td>\n",
       "      <td>3.2</td>\n",
       "      <td>4.7</td>\n",
       "      <td>1.4</td>\n",
       "      <td>1</td>\n",
       "    </tr>\n",
       "    <tr>\n",
       "      <th>51</th>\n",
       "      <td>6.4</td>\n",
       "      <td>3.2</td>\n",
       "      <td>4.5</td>\n",
       "      <td>1.5</td>\n",
       "      <td>1</td>\n",
       "    </tr>\n",
       "    <tr>\n",
       "      <th>52</th>\n",
       "      <td>6.9</td>\n",
       "      <td>3.1</td>\n",
       "      <td>4.9</td>\n",
       "      <td>1.5</td>\n",
       "      <td>1</td>\n",
       "    </tr>\n",
       "    <tr>\n",
       "      <th>53</th>\n",
       "      <td>5.5</td>\n",
       "      <td>2.3</td>\n",
       "      <td>4.0</td>\n",
       "      <td>1.3</td>\n",
       "      <td>1</td>\n",
       "    </tr>\n",
       "    <tr>\n",
       "      <th>54</th>\n",
       "      <td>6.5</td>\n",
       "      <td>2.8</td>\n",
       "      <td>4.6</td>\n",
       "      <td>1.5</td>\n",
       "      <td>1</td>\n",
       "    </tr>\n",
       "  </tbody>\n",
       "</table>\n",
       "</div>"
      ],
      "text/plain": [
       "    sepal length (cm)  sepal width (cm)  petal length (cm)  petal width (cm)  \\\n",
       "50                7.0               3.2                4.7               1.4   \n",
       "51                6.4               3.2                4.5               1.5   \n",
       "52                6.9               3.1                4.9               1.5   \n",
       "53                5.5               2.3                4.0               1.3   \n",
       "54                6.5               2.8                4.6               1.5   \n",
       "\n",
       "    target  \n",
       "50       1  \n",
       "51       1  \n",
       "52       1  \n",
       "53       1  \n",
       "54       1  "
      ]
     },
     "execution_count": 62,
     "metadata": {},
     "output_type": "execute_result"
    }
   ],
   "source": [
    "#грузим данные, фильтруем Iris Versicolor, Iris Virginica (1 , 2)\n",
    "iris_df = load_iris(as_frame=True).frame\n",
    "iris_df = iris_df.loc[iris_df['target'] > 0]\n",
    "\n",
    "iris_df.head()"
   ]
  },
  {
   "cell_type": "code",
   "execution_count": 224,
   "id": "b87fc3c0",
   "metadata": {},
   "outputs": [],
   "source": [
    "# подготавливаем данные\n",
    "X = iris_df.drop('target', axis= 1)\n",
    "y = pd.Series(iris_df['target']) - 1\n",
    "\n",
    "X_train, X_test, y_train, y_test = train_test_split(X, y, test_size=0.3, random_state=22)\n",
    "\n",
    "X_train = np.concatenate((np.ones((X_train.shape[0], 1)), X_train), axis=1)\n",
    "params = np.ones(X_train.shape[1])\n",
    "\n",
    "learn_rate = 0.01 \n",
    "iterations = 1000"
   ]
  },
  {
   "cell_type": "code",
   "execution_count": 218,
   "id": "3efc7dbd",
   "metadata": {},
   "outputs": [],
   "source": [
    "class LR_functions:\n",
    "                \n",
    "    def sigmoid(z):\n",
    "        return 1 / (1 + np.exp(-z))\n",
    "                \n",
    "    def compute_cost(x, y, theta):\n",
    "        hx = sigmoid(x @ theta)\n",
    "        return ((-y) * np.log(hx) - (1 - y) * np.log(1 - hx)).mean()\n",
    "        \n",
    "    def predict(self, X, params):\n",
    "        return np.round(sigmoid(X @ params))\n",
    "    \n",
    "    def gradient_descent(self, X, y, params, learning_rate, iterations):\n",
    "        m = len(y)\n",
    "        cost_ = np.zeros((iterations,1))\n",
    "    \n",
    "        for i in range(iterations):\n",
    "            params = params - (learning_rate/m) * (X.T @ (sigmoid(X @ params) - y)) \n",
    "            cost_[i] = compute_cost(X, y, params)\n",
    "\n",
    "        return (cost_, params)\n",
    "    \n",
    "    def RMS_Prop(self, X, y, params, learning_rate, iterations, epsilon, gamma):\n",
    "        m = len(y)\n",
    "        cost_ = np.zeros((iterations,1))\n",
    "        sq_grad = np.zeros(5)\n",
    "    \n",
    "        for i in range(iterations):\n",
    "            grad =  (X.T @ (sigmoid(X @ params) - y)) / m\n",
    "            cost_[i] = compute_cost(X, y, params)\n",
    "            sq_grad = gamma * sq_grad + (1 - gamma) * grad ** 2\n",
    "            params -= learning_rate * grad / np.sqrt(sq_grad + epsilon)\n",
    "        \n",
    "        return (cost_, params)\n",
    "    \n",
    "    \n",
    "    \n",
    "    def nadam(self, X, y, params, learning_rate, iterations, gamma):\n",
    "        m = len(y)\n",
    "        cost_ = np.zeros((iterations,1))\n",
    "        v=0\n",
    "        for i in range(iterations):\n",
    "            grad = (X.T @ (sigmoid(X @ params) - y)) / m\n",
    "            v = gamma * v - learning_rate * grad\n",
    "            params += v\n",
    "            cost_[i] = compute_cost(X, y, params)\n",
    "\n",
    "        return (cost_, params)"
   ]
  },
  {
   "cell_type": "code",
   "execution_count": 219,
   "id": "012e739e",
   "metadata": {},
   "outputs": [],
   "source": [
    "\n",
    "lr = LR_functions()"
   ]
  },
  {
   "cell_type": "code",
   "execution_count": 197,
   "id": "cb64b3eb",
   "metadata": {},
   "outputs": [
    {
     "name": "stdout",
     "output_type": "stream",
     "text": [
      "CPU times: total: 859 ms\n",
      "Wall time: 844 ms\n"
     ]
    }
   ],
   "source": [
    "%%time\n",
    "res = lr.gradient_descent(X_train, y_train, params, learn_rate, iterations)\n",
    "\n"
   ]
  },
  {
   "cell_type": "code",
   "execution_count": 198,
   "id": "5e5952ff",
   "metadata": {},
   "outputs": [
    {
     "data": {
      "image/png": "[encoded data removed]",
      "text/plain": [
       "<Figure size 640x480 with 1 Axes>"
      ]
     },
     "metadata": {},
     "output_type": "display_data"
    }
   ],
   "source": [
    "plt.plot(res[0])\n",
    "plt.show()"
   ]
  },
  {
   "cell_type": "code",
   "execution_count": 199,
   "id": "6216ca26",
   "metadata": {},
   "outputs": [
    {
     "name": "stdout",
     "output_type": "stream",
     "text": [
      "0.9666666666666667\n"
     ]
    }
   ],
   "source": [
    "X_ = np.concatenate((np.ones((X_test.shape[0], 1)), X_test), axis=1)\n",
    "y_pred = lr.predict(X_, res[1])\n",
    "score = float(sum(y_pred == y_test))/ float(len(y_test))\n",
    "\n",
    "print(score)"
   ]
  },
  {
   "cell_type": "code",
   "execution_count": 200,
   "id": "305efb77",
   "metadata": {},
   "outputs": [
    {
     "name": "stdout",
     "output_type": "stream",
     "text": [
      "CPU times: total: 875 ms\n",
      "Wall time: 869 ms\n"
     ]
    }
   ],
   "source": [
    "%%time\n",
    "\n",
    "res = lr.RMS_Prop(X_train, y_train, params, learn_rate, iterations, epsilon=0.000001, gamma=0.9)"
   ]
  },
  {
   "cell_type": "code",
   "execution_count": 201,
   "id": "657cdafd",
   "metadata": {},
   "outputs": [
    {
     "data": {
      "image/png": "[encoded data removed]",
      "text/plain": [
       "<Figure size 640x480 with 1 Axes>"
      ]
     },
     "metadata": {},
     "output_type": "display_data"
    }
   ],
   "source": [
    "plt.plot(res[0])\n",
    "plt.show()"
   ]
  },
  {
   "cell_type": "code",
   "execution_count": 202,
   "id": "6cbdb4a1",
   "metadata": {},
   "outputs": [
    {
     "name": "stdout",
     "output_type": "stream",
     "text": [
      "0.9333333333333333\n"
     ]
    }
   ],
   "source": [
    "X_ = np.concatenate((np.ones((X_test.shape[0], 1)), X_test), axis=1)\n",
    "y_pred = lr.predict(X_, res[1])\n",
    "score = float(sum(y_pred == y_test))/ float(len(y_test))\n",
    "\n",
    "print(score)"
   ]
  },
  {
   "cell_type": "code",
   "execution_count": 225,
   "id": "43561b2c",
   "metadata": {},
   "outputs": [
    {
     "name": "stdout",
     "output_type": "stream",
     "text": [
      "CPU times: total: 828 ms\n",
      "Wall time: 873 ms\n"
     ]
    }
   ],
   "source": [
    "%%time\n",
    "\n",
    "res = lr.nadam(X_train, y_train, params, learn_rate, iterations, gamma=0.975)"
   ]
  },
  {
   "cell_type": "code",
   "execution_count": 226,
   "id": "c36473b6",
   "metadata": {},
   "outputs": [
    {
     "data": {
      "image/png": "[encoded data removed]",
      "text/plain": [
       "<Figure size 640x480 with 1 Axes>"
      ]
     },
     "metadata": {},
     "output_type": "display_data"
    }
   ],
   "source": [
    "plt.plot(res[0])\n",
    "plt.show()"
   ]
  },
  {
   "cell_type": "code",
   "execution_count": 227,
   "id": "018701b5",
   "metadata": {},
   "outputs": [
    {
     "name": "stdout",
     "output_type": "stream",
     "text": [
      "0.9333333333333333\n"
     ]
    }
   ],
   "source": [
    "X_ = np.concatenate((np.ones((X_test.shape[0], 1)), X_test), axis=1)\n",
    "y_pred = lr.predict(X_, res[1])\n",
    "score = float(sum(y_pred == y_test))/ float(len(y_test))\n",
    "\n",
    "print(score)"
   ]
  },
  {
   "cell_type": "code",
   "execution_count": 234,
   "id": "f246e149",
   "metadata": {},
   "outputs": [
    {
     "data": {
      "text/html": [
       "<div>\n",
       "<style scoped>\n",
       "    .dataframe tbody tr th:only-of-type {\n",
       "        vertical-align: middle;\n",
       "    }\n",
       "\n",
       "    .dataframe tbody tr th {\n",
       "        vertical-align: top;\n",
       "    }\n",
       "\n",
       "    .dataframe thead th {\n",
       "        text-align: right;\n",
       "    }\n",
       "</style>\n",
       "<table border=\"1\" class=\"dataframe\">\n",
       "  <thead>\n",
       "    <tr style=\"text-align: right;\">\n",
       "      <th></th>\n",
       "      <th>alg</th>\n",
       "      <th>score</th>\n",
       "      <th>time</th>\n",
       "    </tr>\n",
       "  </thead>\n",
       "  <tbody>\n",
       "    <tr>\n",
       "      <th>0</th>\n",
       "      <td>gradient_descent</td>\n",
       "      <td>0.97</td>\n",
       "      <td>859</td>\n",
       "    </tr>\n",
       "    <tr>\n",
       "      <th>1</th>\n",
       "      <td>RMS_Prop</td>\n",
       "      <td>0.93</td>\n",
       "      <td>875</td>\n",
       "    </tr>\n",
       "    <tr>\n",
       "      <th>2</th>\n",
       "      <td>nadam</td>\n",
       "      <td>0.93</td>\n",
       "      <td>828</td>\n",
       "    </tr>\n",
       "  </tbody>\n",
       "</table>\n",
       "</div>"
      ],
      "text/plain": [
       "                alg  score  time\n",
       "0  gradient_descent   0.97   859\n",
       "1          RMS_Prop   0.93   875\n",
       "2             nadam   0.93   828"
      ]
     },
     "execution_count": 234,
     "metadata": {},
     "output_type": "execute_result"
    }
   ],
   "source": [
    "tab = pd.DataFrame({'alg': ['gradient_descent', 'RMS_Prop', 'nadam'], 'score' : [0.97, 0.93, 0.93], 'time' : [859, 875, 828]})\n",
    "tab"
   ]
  },
  {
   "cell_type": "markdown",
   "id": "31157c08",
   "metadata": {},
   "source": [
    "Луший результат у gradient_descenе. По времени nadam"
   ]
  }
 ],
 "metadata": {
  "kernelspec": {
   "display_name": "Python 3 (ipykernel)",
   "language": "python",
   "name": "python3"
  },
  "language_info": {
   "codemirror_mode": {
    "name": "ipython",
    "version": 3
   },
   "file_extension": ".py",
   "mimetype": "text/x-python",
   "name": "python",
   "nbconvert_exporter": "python",
   "pygments_lexer": "ipython3",
   "version": "3.10.9"
  }
 },
 "nbformat": 4,
 "nbformat_minor": 5
}
