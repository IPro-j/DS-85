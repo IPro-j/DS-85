{
  "cells": [
    {
      "cell_type": "markdown",
      "id": "621fe3fe",
      "metadata": {
        "id": "621fe3fe"
      },
      "source": [
        "Решить задачу классификации при помощи обучения модели логистической регрессии. Качество модели оценивается путем подсчета метрик TPR, FPR и построения графиков ROC-кривой, Precision-Recall. Данные для обучения модели хранятся в файле athletes.csv, который можно найти в материалах к занятию."
      ]
    },
    {
      "cell_type": "markdown",
      "id": "c05dbf90",
      "metadata": {
        "id": "c05dbf90"
      },
      "source": [
        "Преобразуйте данные:\n",
        "a. проверьте наличие пропущенных значений. Преобразуйте/удалите пропуски по необходимости;\n",
        "b. закодируйте категориальные переменные числовыми значениями по необходимости.\n",
        "\n",
        "Разделите выборку на обучающее (80% данных) и тестовое (20% данных) подмножества.\n",
        "\n",
        "Постройте ROC-кривую с помощью функции sklearn.metrics. roc_curve.\n",
        "\n",
        "Вычислите значение ROC-AUC метрики с помощью функции sklearn.metrics.roc_auc_score.\n",
        "\n",
        "Реализуйте подсчет метрик TPR, FPR «вручную», без использования готовых функций из библиотеки sklearn.\n",
        "\n",
        "Постройте ROC-кривую с помощью вычисленных в п. 5 метрик: объедините графики из п. 3 и п. 6 в один. Сравните, сделайте вывод.\n",
        "\n",
        "Постройте график Precision-Recall, используя метрики, посчитанные в п. 5.\n",
        "*Вычислите значение ROC-AUC метрики, используя метрики, посчитанные в п. 5.\n",
        "Сформулируйте выводы по проделанной работе:\n",
        "a. как по полученным графикам сделать вывод о качестве модели? Как вы оцениваете обученную модель исходя из подсчитанных метрик?\n",
        "b. *может ли ROC-кривая проходить ниже диагонали?"
      ]
    },
    {
      "cell_type": "code",
      "execution_count": null,
      "id": "cd77d3a5",
      "metadata": {
        "id": "cd77d3a5"
      },
      "outputs": [],
      "source": [
        "import pandas as pd\n",
        "from sklearn.model_selection import train_test_split\n",
        "from sklearn.metrics import roc_auc_score, roc_curve, precision_recall_curve\n",
        "from sklearn.linear_model import LogisticRegression\n",
        "import matplotlib.pyplot as plt\n",
        "from numpy import arange"
      ]
    },
    {
      "cell_type": "code",
      "execution_count": null,
      "id": "df3bcc77",
      "metadata": {
        "id": "df3bcc77",
        "outputId": "75890276-830f-42c2-c550-5be8cfc8a9ae"
      },
      "outputs": [
        {
          "data": {
            "text/html": [
              "<div>\n",
              "<style scoped>\n",
              "    .dataframe tbody tr th:only-of-type {\n",
              "        vertical-align: middle;\n",
              "    }\n",
              "\n",
              "    .dataframe tbody tr th {\n",
              "        vertical-align: top;\n",
              "    }\n",
              "\n",
              "    .dataframe thead th {\n",
              "        text-align: right;\n",
              "    }\n",
              "</style>\n",
              "<table border=\"1\" class=\"dataframe\">\n",
              "  <thead>\n",
              "    <tr style=\"text-align: right;\">\n",
              "      <th></th>\n",
              "      <th>id</th>\n",
              "      <th>name</th>\n",
              "      <th>nationality</th>\n",
              "      <th>sex</th>\n",
              "      <th>dob</th>\n",
              "      <th>height</th>\n",
              "      <th>weight</th>\n",
              "      <th>sport</th>\n",
              "      <th>gold</th>\n",
              "      <th>silver</th>\n",
              "      <th>bronze</th>\n",
              "    </tr>\n",
              "  </thead>\n",
              "  <tbody>\n",
              "    <tr>\n",
              "      <th>0</th>\n",
              "      <td>736041664</td>\n",
              "      <td>A Jesus Garcia</td>\n",
              "      <td>ESP</td>\n",
              "      <td>male</td>\n",
              "      <td>10/17/69</td>\n",
              "      <td>1.72</td>\n",
              "      <td>64.0</td>\n",
              "      <td>athletics</td>\n",
              "      <td>0</td>\n",
              "      <td>0</td>\n",
              "      <td>0</td>\n",
              "    </tr>\n",
              "    <tr>\n",
              "      <th>1</th>\n",
              "      <td>532037425</td>\n",
              "      <td>A Lam Shin</td>\n",
              "      <td>KOR</td>\n",
              "      <td>female</td>\n",
              "      <td>9/23/86</td>\n",
              "      <td>1.68</td>\n",
              "      <td>56.0</td>\n",
              "      <td>fencing</td>\n",
              "      <td>0</td>\n",
              "      <td>0</td>\n",
              "      <td>0</td>\n",
              "    </tr>\n",
              "    <tr>\n",
              "      <th>2</th>\n",
              "      <td>435962603</td>\n",
              "      <td>Aaron Brown</td>\n",
              "      <td>CAN</td>\n",
              "      <td>male</td>\n",
              "      <td>5/27/92</td>\n",
              "      <td>1.98</td>\n",
              "      <td>79.0</td>\n",
              "      <td>athletics</td>\n",
              "      <td>0</td>\n",
              "      <td>0</td>\n",
              "      <td>1</td>\n",
              "    </tr>\n",
              "    <tr>\n",
              "      <th>3</th>\n",
              "      <td>521041435</td>\n",
              "      <td>Aaron Cook</td>\n",
              "      <td>MDA</td>\n",
              "      <td>male</td>\n",
              "      <td>1/2/91</td>\n",
              "      <td>1.83</td>\n",
              "      <td>80.0</td>\n",
              "      <td>taekwondo</td>\n",
              "      <td>0</td>\n",
              "      <td>0</td>\n",
              "      <td>0</td>\n",
              "    </tr>\n",
              "    <tr>\n",
              "      <th>4</th>\n",
              "      <td>33922579</td>\n",
              "      <td>Aaron Gate</td>\n",
              "      <td>NZL</td>\n",
              "      <td>male</td>\n",
              "      <td>11/26/90</td>\n",
              "      <td>1.81</td>\n",
              "      <td>71.0</td>\n",
              "      <td>cycling</td>\n",
              "      <td>0</td>\n",
              "      <td>0</td>\n",
              "      <td>0</td>\n",
              "    </tr>\n",
              "    <tr>\n",
              "      <th>5</th>\n",
              "      <td>173071782</td>\n",
              "      <td>Aaron Royle</td>\n",
              "      <td>AUS</td>\n",
              "      <td>male</td>\n",
              "      <td>1/26/90</td>\n",
              "      <td>1.80</td>\n",
              "      <td>67.0</td>\n",
              "      <td>triathlon</td>\n",
              "      <td>0</td>\n",
              "      <td>0</td>\n",
              "      <td>0</td>\n",
              "    </tr>\n",
              "    <tr>\n",
              "      <th>6</th>\n",
              "      <td>266237702</td>\n",
              "      <td>Aaron Russell</td>\n",
              "      <td>USA</td>\n",
              "      <td>male</td>\n",
              "      <td>6/4/93</td>\n",
              "      <td>2.05</td>\n",
              "      <td>98.0</td>\n",
              "      <td>volleyball</td>\n",
              "      <td>0</td>\n",
              "      <td>0</td>\n",
              "      <td>1</td>\n",
              "    </tr>\n",
              "    <tr>\n",
              "      <th>7</th>\n",
              "      <td>382571888</td>\n",
              "      <td>Aaron Younger</td>\n",
              "      <td>AUS</td>\n",
              "      <td>male</td>\n",
              "      <td>9/25/91</td>\n",
              "      <td>1.93</td>\n",
              "      <td>100.0</td>\n",
              "      <td>aquatics</td>\n",
              "      <td>0</td>\n",
              "      <td>0</td>\n",
              "      <td>0</td>\n",
              "    </tr>\n",
              "    <tr>\n",
              "      <th>8</th>\n",
              "      <td>87689776</td>\n",
              "      <td>Aauri Lorena Bokesa</td>\n",
              "      <td>ESP</td>\n",
              "      <td>female</td>\n",
              "      <td>12/14/88</td>\n",
              "      <td>1.80</td>\n",
              "      <td>62.0</td>\n",
              "      <td>athletics</td>\n",
              "      <td>0</td>\n",
              "      <td>0</td>\n",
              "      <td>0</td>\n",
              "    </tr>\n",
              "    <tr>\n",
              "      <th>9</th>\n",
              "      <td>997877719</td>\n",
              "      <td>Ababel Yeshaneh</td>\n",
              "      <td>ETH</td>\n",
              "      <td>female</td>\n",
              "      <td>7/22/91</td>\n",
              "      <td>1.65</td>\n",
              "      <td>54.0</td>\n",
              "      <td>athletics</td>\n",
              "      <td>0</td>\n",
              "      <td>0</td>\n",
              "      <td>0</td>\n",
              "    </tr>\n",
              "  </tbody>\n",
              "</table>\n",
              "</div>"
            ],
            "text/plain": [
              "          id                 name nationality     sex       dob  height  \\\n",
              "0  736041664       A Jesus Garcia         ESP    male  10/17/69    1.72   \n",
              "1  532037425           A Lam Shin         KOR  female   9/23/86    1.68   \n",
              "2  435962603          Aaron Brown         CAN    male   5/27/92    1.98   \n",
              "3  521041435           Aaron Cook         MDA    male    1/2/91    1.83   \n",
              "4   33922579           Aaron Gate         NZL    male  11/26/90    1.81   \n",
              "5  173071782          Aaron Royle         AUS    male   1/26/90    1.80   \n",
              "6  266237702        Aaron Russell         USA    male    6/4/93    2.05   \n",
              "7  382571888        Aaron Younger         AUS    male   9/25/91    1.93   \n",
              "8   87689776  Aauri Lorena Bokesa         ESP  female  12/14/88    1.80   \n",
              "9  997877719      Ababel Yeshaneh         ETH  female   7/22/91    1.65   \n",
              "\n",
              "   weight       sport  gold  silver  bronze  \n",
              "0    64.0   athletics     0       0       0  \n",
              "1    56.0     fencing     0       0       0  \n",
              "2    79.0   athletics     0       0       1  \n",
              "3    80.0   taekwondo     0       0       0  \n",
              "4    71.0     cycling     0       0       0  \n",
              "5    67.0   triathlon     0       0       0  \n",
              "6    98.0  volleyball     0       0       1  \n",
              "7   100.0    aquatics     0       0       0  \n",
              "8    62.0   athletics     0       0       0  \n",
              "9    54.0   athletics     0       0       0  "
            ]
          },
          "execution_count": 103,
          "metadata": {},
          "output_type": "execute_result"
        }
      ],
      "source": [
        "df_athletes = pd.read_csv('athletes.csv')\n",
        "df_athletes.head(10)"
      ]
    },
    {
      "cell_type": "code",
      "execution_count": null,
      "id": "283f3d7e",
      "metadata": {
        "id": "283f3d7e",
        "outputId": "8c63d920-b7a5-4894-94ee-8e05e303dbc4"
      },
      "outputs": [
        {
          "name": "stdout",
          "output_type": "stream",
          "text": [
            "<class 'pandas.core.frame.DataFrame'>\n",
            "RangeIndex: 11538 entries, 0 to 11537\n",
            "Data columns (total 11 columns):\n",
            " #   Column       Non-Null Count  Dtype  \n",
            "---  ------       --------------  -----  \n",
            " 0   id           11538 non-null  int64  \n",
            " 1   name         11538 non-null  object \n",
            " 2   nationality  11538 non-null  object \n",
            " 3   sex          11538 non-null  object \n",
            " 4   dob          11537 non-null  object \n",
            " 5   height       11208 non-null  float64\n",
            " 6   weight       10879 non-null  float64\n",
            " 7   sport        11538 non-null  object \n",
            " 8   gold         11538 non-null  int64  \n",
            " 9   silver       11538 non-null  int64  \n",
            " 10  bronze       11538 non-null  int64  \n",
            "dtypes: float64(2), int64(4), object(5)\n",
            "memory usage: 991.7+ KB\n"
          ]
        }
      ],
      "source": [
        "df_athletes.info()"
      ]
    },
    {
      "cell_type": "code",
      "execution_count": null,
      "id": "92271285",
      "metadata": {
        "id": "92271285",
        "outputId": "da020d10-0016-4e63-b619-24b9645d252f"
      },
      "outputs": [
        {
          "data": {
            "text/plain": [
              "id             0.000000\n",
              "name           0.000000\n",
              "nationality    0.000000\n",
              "sex            0.000000\n",
              "dob            0.008667\n",
              "height         2.860114\n",
              "weight         5.711562\n",
              "sport          0.000000\n",
              "gold           0.000000\n",
              "silver         0.000000\n",
              "bronze         0.000000\n",
              "dtype: float64"
            ]
          },
          "execution_count": 96,
          "metadata": {},
          "output_type": "execute_result"
        }
      ],
      "source": [
        "# процент пропусков по столбцам, пропусков немного\n",
        "df_athletes.isna().mean()*100"
      ]
    },
    {
      "cell_type": "code",
      "execution_count": null,
      "id": "35b17011",
      "metadata": {
        "id": "35b17011",
        "outputId": "831e9d4c-a37f-4732-8dbe-14a004207b58"
      },
      "outputs": [
        {
          "name": "stdout",
          "output_type": "stream",
          "text": [
            "<class 'pandas.core.frame.DataFrame'>\n",
            "Int64Index: 10858 entries, 0 to 11537\n",
            "Data columns (total 11 columns):\n",
            " #   Column       Non-Null Count  Dtype  \n",
            "---  ------       --------------  -----  \n",
            " 0   id           10858 non-null  int64  \n",
            " 1   name         10858 non-null  object \n",
            " 2   nationality  10858 non-null  object \n",
            " 3   sex          10858 non-null  object \n",
            " 4   dob          10858 non-null  object \n",
            " 5   height       10858 non-null  float64\n",
            " 6   weight       10858 non-null  float64\n",
            " 7   sport        10858 non-null  object \n",
            " 8   gold         10858 non-null  int64  \n",
            " 9   silver       10858 non-null  int64  \n",
            " 10  bronze       10858 non-null  int64  \n",
            "dtypes: float64(2), int64(4), object(5)\n",
            "memory usage: 1017.9+ KB\n"
          ]
        }
      ],
      "source": [
        "'Дополнительное исследование показало что строк с пропусками примерно 6% от выборки, принимаем решение - удалить'\n",
        "\n",
        "df_athletes = df_athletes.dropna()\n",
        "df_athletes.info()"
      ]
    },
    {
      "cell_type": "code",
      "execution_count": null,
      "id": "1e285b1c",
      "metadata": {
        "id": "1e285b1c",
        "outputId": "a9eebb90-39c0-40d0-820c-1ac4ecf26f5f"
      },
      "outputs": [
        {
          "name": "stdout",
          "output_type": "stream",
          "text": [
            "name: 10840\n",
            "nationality: 200\n",
            "sex: 2\n",
            "dob: 5453\n",
            "sport: 27\n"
          ]
        }
      ],
      "source": [
        "# какое кол-во уникальных значений принимают категориальные столбцы\n",
        "for c in df_athletes.select_dtypes(exclude=['int64', 'float64']).columns:\n",
        "    print(f'{c}: {len(df_athletes[c].unique())}')"
      ]
    },
    {
      "cell_type": "code",
      "execution_count": null,
      "id": "a44d3e5c",
      "metadata": {
        "id": "a44d3e5c"
      },
      "outputs": [],
      "source": [
        "# принято решение работать с двумя признаками\n",
        "y = df_athletes['sex'].replace({\"male\": 0, \"female\": 1})\n",
        "X = df_athletes[['height', 'weight']]"
      ]
    },
    {
      "cell_type": "code",
      "execution_count": null,
      "id": "ba663a3e",
      "metadata": {
        "id": "ba663a3e"
      },
      "outputs": [],
      "source": [
        "X_train, X_test, y_train, y_test = train_test_split(X, y, test_size=0.2, random_state = 42)\n"
      ]
    },
    {
      "cell_type": "code",
      "execution_count": null,
      "id": "14e7a546",
      "metadata": {
        "id": "14e7a546",
        "outputId": "bf3fa717-5e38-4ac1-f820-b309937f34ff"
      },
      "outputs": [
        {
          "data": {
            "text/html": [
              "<style>#sk-container-id-1 {color: black;background-color: white;}#sk-container-id-1 pre{padding: 0;}#sk-container-id-1 div.sk-toggleable {background-color: white;}#sk-container-id-1 label.sk-toggleable__label {cursor: pointer;display: block;width: 100%;margin-bottom: 0;padding: 0.3em;box-sizing: border-box;text-align: center;}#sk-container-id-1 label.sk-toggleable__label-arrow:before {content: \"▸\";float: left;margin-right: 0.25em;color: #696969;}#sk-container-id-1 label.sk-toggleable__label-arrow:hover:before {color: black;}#sk-container-id-1 div.sk-estimator:hover label.sk-toggleable__label-arrow:before {color: black;}#sk-container-id-1 div.sk-toggleable__content {max-height: 0;max-width: 0;overflow: hidden;text-align: left;background-color: #f0f8ff;}#sk-container-id-1 div.sk-toggleable__content pre {margin: 0.2em;color: black;border-radius: 0.25em;background-color: #f0f8ff;}#sk-container-id-1 input.sk-toggleable__control:checked~div.sk-toggleable__content {max-height: 200px;max-width: 100%;overflow: auto;}#sk-container-id-1 input.sk-toggleable__control:checked~label.sk-toggleable__label-arrow:before {content: \"▾\";}#sk-container-id-1 div.sk-estimator input.sk-toggleable__control:checked~label.sk-toggleable__label {background-color: #d4ebff;}#sk-container-id-1 div.sk-label input.sk-toggleable__control:checked~label.sk-toggleable__label {background-color: #d4ebff;}#sk-container-id-1 input.sk-hidden--visually {border: 0;clip: rect(1px 1px 1px 1px);clip: rect(1px, 1px, 1px, 1px);height: 1px;margin: -1px;overflow: hidden;padding: 0;position: absolute;width: 1px;}#sk-container-id-1 div.sk-estimator {font-family: monospace;background-color: #f0f8ff;border: 1px dotted black;border-radius: 0.25em;box-sizing: border-box;margin-bottom: 0.5em;}#sk-container-id-1 div.sk-estimator:hover {background-color: #d4ebff;}#sk-container-id-1 div.sk-parallel-item::after {content: \"\";width: 100%;border-bottom: 1px solid gray;flex-grow: 1;}#sk-container-id-1 div.sk-label:hover label.sk-toggleable__label {background-color: #d4ebff;}#sk-container-id-1 div.sk-serial::before {content: \"\";position: absolute;border-left: 1px solid gray;box-sizing: border-box;top: 0;bottom: 0;left: 50%;z-index: 0;}#sk-container-id-1 div.sk-serial {display: flex;flex-direction: column;align-items: center;background-color: white;padding-right: 0.2em;padding-left: 0.2em;position: relative;}#sk-container-id-1 div.sk-item {position: relative;z-index: 1;}#sk-container-id-1 div.sk-parallel {display: flex;align-items: stretch;justify-content: center;background-color: white;position: relative;}#sk-container-id-1 div.sk-item::before, #sk-container-id-1 div.sk-parallel-item::before {content: \"\";position: absolute;border-left: 1px solid gray;box-sizing: border-box;top: 0;bottom: 0;left: 50%;z-index: -1;}#sk-container-id-1 div.sk-parallel-item {display: flex;flex-direction: column;z-index: 1;position: relative;background-color: white;}#sk-container-id-1 div.sk-parallel-item:first-child::after {align-self: flex-end;width: 50%;}#sk-container-id-1 div.sk-parallel-item:last-child::after {align-self: flex-start;width: 50%;}#sk-container-id-1 div.sk-parallel-item:only-child::after {width: 0;}#sk-container-id-1 div.sk-dashed-wrapped {border: 1px dashed gray;margin: 0 0.4em 0.5em 0.4em;box-sizing: border-box;padding-bottom: 0.4em;background-color: white;}#sk-container-id-1 div.sk-label label {font-family: monospace;font-weight: bold;display: inline-block;line-height: 1.2em;}#sk-container-id-1 div.sk-label-container {text-align: center;}#sk-container-id-1 div.sk-container {/* jupyter's `normalize.less` sets `[hidden] { display: none; }` but bootstrap.min.css set `[hidden] { display: none !important; }` so we also need the `!important` here to be able to override the default hidden behavior on the sphinx rendered scikit-learn.org. See: https://github.com/scikit-learn/scikit-learn/issues/21755 */display: inline-block !important;position: relative;}#sk-container-id-1 div.sk-text-repr-fallback {display: none;}</style><div id=\"sk-container-id-1\" class=\"sk-top-container\"><div class=\"sk-text-repr-fallback\"><pre>LogisticRegression()</pre><b>In a Jupyter environment, please rerun this cell to show the HTML representation or trust the notebook. <br />On GitHub, the HTML representation is unable to render, please try loading this page with nbviewer.org.</b></div><div class=\"sk-container\" hidden><div class=\"sk-item\"><div class=\"sk-estimator sk-toggleable\"><input class=\"sk-toggleable__control sk-hidden--visually\" id=\"sk-estimator-id-1\" type=\"checkbox\" checked><label for=\"sk-estimator-id-1\" class=\"sk-toggleable__label sk-toggleable__label-arrow\">LogisticRegression</label><div class=\"sk-toggleable__content\"><pre>LogisticRegression()</pre></div></div></div></div></div>"
            ],
            "text/plain": [
              "LogisticRegression()"
            ]
          },
          "execution_count": 125,
          "metadata": {},
          "output_type": "execute_result"
        }
      ],
      "source": [
        "model = LogisticRegression()\n",
        "model.fit(X_train, y_train)"
      ]
    },
    {
      "cell_type": "code",
      "execution_count": null,
      "id": "17f6b9ba",
      "metadata": {
        "id": "17f6b9ba",
        "outputId": "1b647a74-a788-43b4-8e19-383fa1d873f9"
      },
      "outputs": [
        {
          "data": {
            "text/plain": [
              "0.7736587612249597"
            ]
          },
          "execution_count": 127,
          "metadata": {},
          "output_type": "execute_result"
        }
      ],
      "source": [
        "model.score(X_train, y_train)"
      ]
    },
    {
      "cell_type": "code",
      "execution_count": null,
      "id": "2c0226e3",
      "metadata": {
        "id": "2c0226e3",
        "outputId": "6f9aeb7e-f37d-4cb0-9ffd-20a4dd0b8ec2"
      },
      "outputs": [
        {
          "data": {
            "text/plain": [
              "0.7767034990791897"
            ]
          },
          "execution_count": 128,
          "metadata": {},
          "output_type": "execute_result"
        }
      ],
      "source": [
        "model.score(X_test, y_test)"
      ]
    },
    {
      "cell_type": "code",
      "execution_count": null,
      "id": "13e21214",
      "metadata": {
        "id": "13e21214"
      },
      "outputs": [],
      "source": [
        "predictions = model.predict_proba(X_test)"
      ]
    },
    {
      "cell_type": "code",
      "execution_count": null,
      "id": "2561a8b8",
      "metadata": {
        "id": "2561a8b8"
      },
      "outputs": [],
      "source": [
        "fpr, tpr, thres = roc_curve(y_test, predictions[:, 1])"
      ]
    },
    {
      "cell_type": "code",
      "execution_count": null,
      "id": "b26da199",
      "metadata": {
        "id": "b26da199",
        "outputId": "bd166f77-a58d-4221-9287-6d50254f1d62"
      },
      "outputs": [
        {
          "data": {
            "image/png": "[encoded data removed]",
            "text/plain": [
              "<Figure size 640x480 with 1 Axes>"
            ]
          },
          "metadata": {},
          "output_type": "display_data"
        }
      ],
      "source": [
        "plt.plot(fpr, tpr)\n",
        "plt.title('roc_curve')\n",
        "\n",
        "plt.xlabel('False Positive Rate')\n",
        "plt.ylabel('True Positive Rate')\n",
        "plt.plot([0, 1],[0, 1], color='red')\n",
        "plt.grid()"
      ]
    },
    {
      "cell_type": "code",
      "execution_count": null,
      "id": "08564a7f",
      "metadata": {
        "id": "08564a7f",
        "outputId": "a2495ec0-9fbf-4556-d73b-66c75f12a0d4"
      },
      "outputs": [
        {
          "data": {
            "text/plain": [
              "0.8505357607237687"
            ]
          },
          "execution_count": 134,
          "metadata": {},
          "output_type": "execute_result"
        }
      ],
      "source": [
        "roc_auc_score(y_test, predictions[:, 1])"
      ]
    },
    {
      "cell_type": "code",
      "execution_count": null,
      "id": "48497df9",
      "metadata": {
        "id": "48497df9"
      },
      "outputs": [],
      "source": [
        "fpr2 = []\n",
        "tpr2 = []\n",
        "precision2 = []\n",
        "\n",
        "\n",
        "for threshold in arange(0, 1, 0.01):\n",
        "    tp, fp, fn, tn = 0, 0, 0, 0\n",
        "    for predicted_prob, actual in zip(predictions[:, 1], y_test):\n",
        "        if predicted_prob >= threshold:\n",
        "            predicted = 1\n",
        "        else:\n",
        "            predicted = 0\n",
        "\n",
        "        if predicted == 1:\n",
        "            if actual == 1:\n",
        "                tp += 1\n",
        "            else:\n",
        "                fp += 1\n",
        "\n",
        "        else:\n",
        "            if actual == 1:\n",
        "                fn += 1\n",
        "            else:\n",
        "                tn += 1\n",
        "    tpr2.append(tp / (tp + fn))\n",
        "    fpr2.append(fp/(fp + tn))\n",
        "    precision2.append(tp / (tp + fp))"
      ]
    },
    {
      "cell_type": "code",
      "execution_count": null,
      "id": "17c0d390",
      "metadata": {
        "id": "17c0d390",
        "outputId": "6ea5a63d-285c-4d59-9db2-2bfda1b08284"
      },
      "outputs": [
        {
          "data": {
            "image/png": "[encoded data removed]",
            "text/plain": [
              "<Figure size 640x480 with 1 Axes>"
            ]
          },
          "metadata": {},
          "output_type": "display_data"
        }
      ],
      "source": [
        "plt.plot(fpr, tpr, label='sklearn.metrics')\n",
        "plt.plot(fpr2, tpr2, label='manual')\n",
        "plt.title('roc_curve')\n",
        "\n",
        "plt.xlabel('False Positive Rate')\n",
        "plt.ylabel('True Positive Rate')\n",
        "\n",
        "plt.legend(loc=0)\n",
        "plt.grid()\n",
        "plt.show()"
      ]
    },
    {
      "cell_type": "markdown",
      "id": "ca3691b5",
      "metadata": {
        "id": "ca3691b5"
      },
      "source": [
        "Расчет roc_curve совпал с ручным так как алгоритм тот же"
      ]
    },
    {
      "cell_type": "code",
      "execution_count": null,
      "id": "1bbbb872",
      "metadata": {
        "id": "1bbbb872",
        "outputId": "9ed03666-8152-43c1-f28e-b4249b08cdca"
      },
      "outputs": [
        {
          "data": {
            "image/png": "[encoded data removed]",
            "text/plain": [
              "<Figure size 640x480 with 1 Axes>"
            ]
          },
          "metadata": {},
          "output_type": "display_data"
        }
      ],
      "source": [
        "plt.plot(precision2, tpr2, label='PR')\n",
        "plt.title('PR ')\n",
        "plt.xlabel('Precision')\n",
        "plt.ylabel('Recall')\n",
        "\n",
        "plt.legend(loc=0)\n",
        "plt.grid()\n",
        "plt.show()"
      ]
    },
    {
      "cell_type": "code",
      "execution_count": null,
      "id": "a1362462",
      "metadata": {
        "id": "a1362462",
        "outputId": "397f6f16-809d-4ba1-a96a-e6093e753fd0"
      },
      "outputs": [
        {
          "data": {
            "text/plain": [
              "0.8504228429279244"
            ]
          },
          "execution_count": 239,
          "metadata": {},
          "output_type": "execute_result"
        }
      ],
      "source": [
        "\n",
        "auc = 0\n",
        "\n",
        "for i in range(len(fpr2) - 1):\n",
        "    fpr2_delta = abs(fpr2[i+1] - fpr2[i])\n",
        "    auc += (fpr2_delta  * tpr2[i] + (tpr2[i+1] - tpr2[i]) * fpr2_delta  / 2)\n",
        "\n",
        "auc"
      ]
    },
    {
      "cell_type": "markdown",
      "id": "dfbe0dcf",
      "metadata": {
        "id": "dfbe0dcf"
      },
      "source": [
        "Полученное значение совпало с расчитанным с помощью roc_auc_score\n",
        "\n",
        "Модель получилось довольно точной, способность различать классы 85%\n",
        "\n",
        "\n",
        "если модель совпадет с диагональю - способность правильно квалифицировать 50%, это собственно все равно что просто угадывать, если меньше 0.5 - вопрос в правильности подготовки данных, настройки классификатора\n"
      ]
    }
  ],
  "metadata": {
    "kernelspec": {
      "display_name": "Python 3 (ipykernel)",
      "language": "python",
      "name": "python3"
    },
    "language_info": {
      "codemirror_mode": {
        "name": "ipython",
        "version": 3
      },
      "file_extension": ".py",
      "mimetype": "text/x-python",
      "name": "python",
      "nbconvert_exporter": "python",
      "pygments_lexer": "ipython3",
      "version": "3.10.9"
    },
    "colab": {
      "provenance": []
    }
  },
  "nbformat": 4,
  "nbformat_minor": 5
}