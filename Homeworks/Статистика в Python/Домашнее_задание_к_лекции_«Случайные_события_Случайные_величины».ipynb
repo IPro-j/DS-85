{
  "cells": [
    {
      "cell_type": "code",
      "execution_count": null,
      "id": "80c172e9",
      "metadata": {
        "id": "80c172e9"
      },
      "outputs": [],
      "source": [
        "'''\n",
        "Смоделировать игру против лотерейного автомата типа “777”.\n",
        "Игрок платит 1 руб., после чего выпадает случайное целое число, равномерно распределенное от 0 до 999.\n",
        "При некоторых значениях числа игрок получает выигрыш.\n",
        "\n",
        "777: 200 руб.\n",
        "999: 100 руб.\n",
        "555: 50 руб.\n",
        "333: 15 руб.\n",
        "111: 10 руб.\n",
        "*77: 5 руб.\n",
        "**7: 3 руб.\n",
        "*00: 2 руб.\n",
        "**0: 1 руб.\n",
        "\n",
        "Вопросы:\n",
        "Выгодна ли игра игроку?\n",
        "Сколько в среднем приобретает или теряет игрок за одну игру?\n",
        "**Дополнительное задание повышенной сложности. **\n",
        "\n",
        "Теоретически рассчитать средний выигрыш (проигрыш) и сравнить с результатами моделирования\n",
        "\n",
        "– любая цифра\n",
        "\n",
        "'''\n",
        "\n"
      ]
    },
    {
      "cell_type": "code",
      "execution_count": null,
      "id": "d54e8e2f",
      "metadata": {
        "id": "d54e8e2f",
        "outputId": "57ec61ff-8b6b-4a7c-a392-db7ff64af349"
      },
      "outputs": [
        {
          "name": "stdout",
          "output_type": "stream",
          "text": [
            "В среднем приобретает игрок за одну игру: 0.807538\n",
            "Игра не выгодна\n"
          ]
        }
      ],
      "source": [
        "import random\n",
        "\n",
        "\n",
        "def prize_num(num):\n",
        "    prize_num = {777: 200, 999: 100, 555: 50, 333: 15, 111: 10}\n",
        "    if num in prize_num:\n",
        "        return (prize_num[num])\n",
        "    if num % 100 == 77:\n",
        "        return(5)\n",
        "    if num % 100 == 0:\n",
        "        return(2)\n",
        "    if num % 10 == 7:\n",
        "        return(3)\n",
        "    if num % 10 == 0:\n",
        "        return(1)\n",
        "    return(0)\n",
        "\n",
        "prize_sum = 0\n",
        "game_rounds = 1000000\n",
        "\n",
        "for _ in range(game_rounds):\n",
        "    prize_sum = prize_sum + prize_num(random.randint(0, 999))\n",
        "\n",
        "\n",
        "print(f'В среднем приобретает игрок за одну игру: {prize_sum/game_rounds}')\n",
        "# расходы на одну игру 1 руб - Игра не выгодна\n"
      ]
    },
    {
      "cell_type": "code",
      "execution_count": null,
      "id": "1435ef76",
      "metadata": {
        "id": "1435ef76",
        "outputId": "34da4cc8-7b0f-4649-c2d6-9215dc830dc5",
        "colab": {
          "base_uri": "https://localhost:8080/"
        }
      },
      "outputs": [
        {
          "output_type": "stream",
          "name": "stdout",
          "text": [
            "0.7999999999999999\n"
          ]
        }
      ],
      "source": [
        "q = 1/1000\n",
        "\n",
        "prize_v = q*(200 + 100 + 50 + 15 + 10) + q*9*5 + q*10*2 + q*90*3 + q*90*1\n",
        "\n",
        "print(prize_v)\n",
        "# Теоритический расчет близок к смодулированному, больше примерно на 5%"
      ]
    },
    {
      "cell_type": "code",
      "execution_count": null,
      "id": "e6dbce1b",
      "metadata": {
        "id": "e6dbce1b"
      },
      "outputs": [],
      "source": []
    },
    {
      "cell_type": "code",
      "execution_count": null,
      "id": "e27bb68c",
      "metadata": {
        "id": "e27bb68c"
      },
      "outputs": [],
      "source": []
    }
  ],
  "metadata": {
    "kernelspec": {
      "display_name": "Python 3 (ipykernel)",
      "language": "python",
      "name": "python3"
    },
    "language_info": {
      "codemirror_mode": {
        "name": "ipython",
        "version": 3
      },
      "file_extension": ".py",
      "mimetype": "text/x-python",
      "name": "python",
      "nbconvert_exporter": "python",
      "pygments_lexer": "ipython3",
      "version": "3.10.9"
    },
    "colab": {
      "provenance": []
    }
  },
  "nbformat": 4,
  "nbformat_minor": 5
}