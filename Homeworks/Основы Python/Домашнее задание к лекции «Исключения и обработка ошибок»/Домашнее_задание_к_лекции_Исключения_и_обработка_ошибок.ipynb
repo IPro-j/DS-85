{
  "cells": [
    {
      "cell_type": "code",
      "execution_count": null,
      "id": "f0b08b22",
      "metadata": {
        "colab": {
          "base_uri": "https://localhost:8080/"
        },
        "id": "f0b08b22",
        "outputId": "628a03be-2b89-4eee-def2-af342ac68acb"
      },
      "outputs": [
        {
          "output_type": "stream",
          "name": "stdout",
          "text": [
            "2002-10-02\n",
            "2013-10-11\n",
            "1977-08-18\n"
          ]
        }
      ],
      "source": [
        "'''\n",
        "Задание 1\n",
        "Печатные газеты использовали свой формат дат для каждого выпуска.\n",
        "Для каждой газеты из списка напишите формат указанной даты для перевода в объект datetime:\n",
        "The Moscow Times — Wednesday, October 2, 2002\n",
        "The Guardian — Friday, 11.10.13\n",
        "Daily News — Thursday, 18 August 1977\n",
        "'''\n",
        "\n",
        "import datetime\n",
        "\n",
        "print(datetime.datetime.strptime('Wednesday, October 2, 2002', \"%A, %B %d, %Y\").date())\n",
        "\n",
        "print(datetime.datetime.strptime('Friday, 11.10.13', \"%A, %d.%m.%y\").date())\n",
        "\n",
        "print(datetime.datetime.strptime('Thursday, 18 August 1977', \"%A, %d %B %Y\").date())"
      ]
    },
    {
      "cell_type": "code",
      "execution_count": null,
      "id": "1b57e213",
      "metadata": {
        "id": "1b57e213",
        "outputId": "50b52017-955d-46b2-d46a-58d12a498926"
      },
      "outputs": [
        {
          "name": "stdout",
          "output_type": "stream",
          "text": [
            "True\n",
            "False\n",
            "False\n"
          ]
        }
      ],
      "source": [
        "'''\n",
        "Задание 2\n",
        "Дан поток дат в формате YYYY-MM-DD, в которых встречаются некорректные значения:\n",
        "stream = [‘2018-04-02’, ‘2018-02-29’, ‘2018-19-02’]\n",
        "\n",
        "Напишите функцию, которая проверяет эти даты на корректность.\n",
        "То есть для каждой даты возвращает True — дата корректна или False — некорректная.\n",
        "'''\n",
        "\n",
        "from datetime import datetime\n",
        "\n",
        "stream = ['2018-04-02', '2018-02-29', '2018-19-02']\n",
        "\n",
        "\n",
        "def date_format_check(date_):\n",
        "        try:\n",
        "            datetime.strptime(date_, \"%Y-%m-%d\")\n",
        "            return(True)\n",
        "        except:\n",
        "            return(False)\n",
        "\n",
        "\n",
        "for s in stream:\n",
        "    print(date_format_check(s))\n",
        "\n",
        "\n"
      ]
    },
    {
      "cell_type": "code",
      "execution_count": null,
      "id": "48eeed2a",
      "metadata": {
        "colab": {
          "base_uri": "https://localhost:8080/"
        },
        "id": "48eeed2a",
        "outputId": "f77785ed-be72-4184-b26f-412777a0a0c1"
      },
      "outputs": [
        {
          "output_type": "stream",
          "name": "stdout",
          "text": [
            "2023-01-01\n",
            "2023-01-02\n",
            "2023-01-03\n",
            "2023-01-04\n",
            "2023-01-05\n",
            "2023-01-06\n",
            "2023-01-07\n",
            "2023-01-08\n",
            "2023-01-09\n",
            "2023-01-10\n",
            "2023-01-11\n",
            "2023-01-12\n",
            "2023-01-13\n",
            "2023-01-14\n",
            "2023-01-15\n",
            "2023-01-16\n",
            "2023-01-17\n",
            "2023-01-18\n",
            "2023-01-19\n",
            "2023-01-20\n",
            "2023-01-21\n",
            "2023-01-22\n",
            "2023-01-23\n",
            "2023-01-24\n",
            "2023-01-25\n",
            "2023-01-26\n",
            "2023-01-27\n",
            "2023-01-28\n",
            "2023-01-29\n",
            "2023-01-30\n",
            "2023-01-31\n",
            "2023-02-01\n",
            "2023-02-02\n",
            "2023-02-03\n",
            "2023-02-04\n",
            "2023-02-05\n",
            "2023-02-06\n",
            "2023-02-07\n",
            "2023-02-08\n",
            "2023-02-09\n",
            "2023-02-10\n",
            "2023-02-11\n",
            "2023-02-12\n",
            "2023-02-13\n",
            "2023-02-14\n"
          ]
        }
      ],
      "source": [
        "'''\n",
        "Задание 3\n",
        "Напишите функцию date_range, которая возвращает список дат за период от start_date до end_date.\n",
        "Даты должны вводиться в формате YYYY-MM-DD.\n",
        "В случае неверного формата или при start_date > end_date должен возвращаться пустой список.\n",
        "'''\n",
        "\n",
        "\n",
        "from datetime import datetime\n",
        "from datetime import timedelta\n",
        "\n",
        "\n",
        "def date_range(start_date, end_date):\n",
        "    try:\n",
        "        start_date_dt = datetime.strptime(start_date, \"%Y-%m-%d\").date()\n",
        "        end_date_dt = datetime.strptime(end_date, \"%Y-%m-%d\").date()\n",
        "    except:\n",
        "        return([])\n",
        "    if start_date_dt > end_date_dt:\n",
        "        return([])\n",
        "    return([ start_date_dt + timedelta(dt) for dt in range((end_date_dt - start_date_dt).days + 1)])\n",
        "\n",
        "date_list = date_range('2023-01-01', '2023-02-14')\n",
        "\n",
        "for dl in date_list:\n",
        "    print(dl.strftime('%Y-%m-%d'))\n",
        "\n",
        "\n",
        "\n",
        "\n"
      ]
    },
    {
      "cell_type": "code",
      "execution_count": null,
      "id": "f50aebbd",
      "metadata": {
        "id": "f50aebbd"
      },
      "outputs": [],
      "source": []
    }
  ],
  "metadata": {
    "kernelspec": {
      "display_name": "Python 3 (ipykernel)",
      "language": "python",
      "name": "python3"
    },
    "language_info": {
      "codemirror_mode": {
        "name": "ipython",
        "version": 3
      },
      "file_extension": ".py",
      "mimetype": "text/x-python",
      "name": "python",
      "nbconvert_exporter": "python",
      "pygments_lexer": "ipython3",
      "version": "3.10.9"
    },
    "colab": {
      "provenance": []
    }
  },
  "nbformat": 4,
  "nbformat_minor": 5
}