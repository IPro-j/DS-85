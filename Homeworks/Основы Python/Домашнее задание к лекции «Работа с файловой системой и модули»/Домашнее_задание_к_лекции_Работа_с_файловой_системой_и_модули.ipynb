{
  "cells": [
    {
      "cell_type": "code",
      "execution_count": null,
      "id": "ccf2cb0c",
      "metadata": {
        "scrolled": true,
        "id": "ccf2cb0c",
        "outputId": "dad9b184-b30b-4657-c1be-3e2bd802c9ce"
      },
      "outputs": [
        {
          "name": "stdout",
          "output_type": "stream",
          "text": [
            "\n"
          ]
        }
      ],
      "source": [
        "'''\n",
        "Домашнее задание\n",
        "Переведите содержимое файла purchase_log.txt в словарь purchases вида:\n",
        "\n",
        "{'1840e0b9d4': 'Продукты', ...}\n",
        "\n",
        "Для каждого user_id в файле visit_log.csv определите\n",
        "третий столбец с категорией покупки (если покупка была, сам файл visit_log.csv изменять не надо).\n",
        "Запишите в файл funnel.csv визиты из файла visit_log.csv, в которых были покупки с указанием категории.\n",
        "\n",
        "Учтите условия на данные:\n",
        "\n",
        "содержимое purchase_log.txt помещается в оперативную память компьютера\n",
        "содержимое visit_log.csv - нет; используйте только построчную обработку этого файла\n",
        "'''\n"
      ]
    },
    {
      "cell_type": "code",
      "execution_count": null,
      "id": "0b1fb0d6",
      "metadata": {
        "id": "0b1fb0d6",
        "outputId": "2a27ea39-1b26-4307-ed9d-68c6ba6b7806"
      },
      "outputs": [
        {
          "name": "stdout",
          "output_type": "stream",
          "text": [
            "CPU times: total: 906 ms\n",
            "Wall time: 934 ms\n"
          ]
        }
      ],
      "source": [
        "import json\n",
        "\n",
        "\n",
        "f = open('purchase_log.txt')\n",
        "file_content = f.readlines()\n",
        "f.close()\n",
        "\n",
        "purchases = {}\n",
        "for fc in file_content[1:]:\n",
        "    purchases[json.loads(fc)['user_id']] = json.loads(fc)['category']\n",
        "\n",
        "\n",
        "log = open('visit_log.csv')\n",
        "with  open('funnel.csv', 'w') as f:\n",
        "    f.write(log.readline()[:-1] + ',category\\n')\n",
        "    for l in log:\n",
        "        if l.split(\",\")[0] in  purchases:\n",
        "            f.write(l[:-1] + f',{purchases.get(l.split(\",\")[0])}\\n')\n",
        "\n",
        "log.close()\n"
      ]
    },
    {
      "cell_type": "code",
      "execution_count": null,
      "id": "0e2295a8",
      "metadata": {
        "id": "0e2295a8"
      },
      "outputs": [],
      "source": []
    },
    {
      "cell_type": "code",
      "execution_count": null,
      "id": "25343290",
      "metadata": {
        "id": "25343290"
      },
      "outputs": [],
      "source": []
    }
  ],
  "metadata": {
    "kernelspec": {
      "display_name": "Python 3 (ipykernel)",
      "language": "python",
      "name": "python3"
    },
    "language_info": {
      "codemirror_mode": {
        "name": "ipython",
        "version": 3
      },
      "file_extension": ".py",
      "mimetype": "text/x-python",
      "name": "python",
      "nbconvert_exporter": "python",
      "pygments_lexer": "ipython3",
      "version": "3.10.9"
    },
    "colab": {
      "provenance": []
    }
  },
  "nbformat": 4,
  "nbformat_minor": 5
}