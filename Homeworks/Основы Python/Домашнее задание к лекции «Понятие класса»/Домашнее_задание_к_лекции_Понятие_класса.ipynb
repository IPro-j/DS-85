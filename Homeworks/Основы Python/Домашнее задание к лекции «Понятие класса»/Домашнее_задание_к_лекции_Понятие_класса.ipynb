{
  "cells": [
    {
      "cell_type": "code",
      "execution_count": null,
      "id": "8e012a4e",
      "metadata": {
        "id": "8e012a4e",
        "outputId": "71e3e88a-6b6e-4e08-dfe5-c12cdc7cd5d5"
      },
      "outputs": [
        {
          "name": "stdout",
          "output_type": "stream",
          "text": [
            "СДР (специальные права заимствования)\n"
          ]
        }
      ],
      "source": [
        "'''\n",
        "Задание 1\n",
        "Напишите функцию, которая возвращает название валюты (поле ‘Name’)\n",
        "с максимальным значением курса с помощью сервиса www.cbr-xml-daily.ru...ly_json.js\n",
        "'''\n",
        "\n",
        "\n",
        "import requests\n",
        "\n",
        "\n",
        "valute = requests.get('https://www.cbr-xml-daily.ru/daily_json.js').json()['Valute']\n",
        "\n",
        "names = [valute[v]['Name'] for v in valute]\n",
        "values = [valute[v]['Value'] for v in valute]\n",
        "\n",
        "print(names[values.index(max(values))])"
      ]
    },
    {
      "cell_type": "code",
      "execution_count": null,
      "id": "b3fa1771",
      "metadata": {
        "id": "b3fa1771",
        "outputId": "bc6a5c01-3ccc-4f38-da7e-139f64ff7fd2"
      },
      "outputs": [
        {
          "data": {
            "text/plain": [
              "{0.7897999999999996}"
            ]
          },
          "execution_count": 36,
          "metadata": {},
          "output_type": "execute_result"
        }
      ],
      "source": [
        "'''\n",
        "Задание 2\n",
        "Добавьте в класс Rate параметр diff (со значениями True или False),\n",
        "который в случае значения True в методах курсов валют (eur, usd итд) будет возвращать не курс валюты,\n",
        "а изменение по сравнению в прошлым значением.\n",
        "Считайте, self.diff будет принимать значение True только при возврате значения курса.\n",
        "При отображении всей информации о валюте он не используется.\n",
        "'''\n",
        "\n",
        "\n",
        "\n",
        "class Rate:\n",
        "    def __init__(self, format_='value', diff=False):\n",
        "        self.format = format_\n",
        "        self.diff = diff\n",
        "\n",
        "    def exchange_rates(self):\n",
        "        self.r = requests.get('https://www.cbr-xml-daily.ru/daily_json.js')\n",
        "        return self.r.json()['Valute']\n",
        "\n",
        "    def make_format(self, currency):\n",
        "        response = self.exchange_rates()\n",
        "\n",
        "        if currency in response:\n",
        "            if self.format == 'full':\n",
        "                return response[currency]\n",
        "\n",
        "            if self.format == 'value':\n",
        "                if self.diff:\n",
        "                    return ({response[currency]['Value'] - response[currency]['Previous']})\n",
        "                return response[currency]['Value']\n",
        "\n",
        "\n",
        "    def eur(self):\n",
        "        \"\"\"Возвращает курс евро на сегодня в формате self.format\"\"\"\n",
        "        return self.make_format('EUR')\n",
        "\n",
        "    def usd(self):\n",
        "        \"\"\"Возвращает курс доллара на сегодня в формате self.format\"\"\"\n",
        "        return self.make_format('USD')\n",
        "\n",
        "\n",
        "\n",
        "rate = Rate(format_='value', diff=True)\n",
        "\n",
        "rate.eur()\n"
      ]
    },
    {
      "cell_type": "code",
      "execution_count": null,
      "id": "44839014",
      "metadata": {
        "id": "44839014"
      },
      "outputs": [],
      "source": [
        "'''\n",
        "Задание 3\n",
        "Напишите класс Designer,\n",
        "который учитывает количество международных премий.\n",
        "Подсказки в коде занятия в разделе “Домашнее задание задача 3”.\n",
        "\n",
        "Комментарий по классу Designer такой:\n",
        "Напишите класс Designer, который учитывает количество международных премий\n",
        "для дизайнеров (из презентации: “Повышение на 1 грейд за каждые 7 баллов. Получение международной премии – это +2 балла”).\n",
        "Считайте, что при выходе на работу сотрудник уже имеет две премии\n",
        "и их количество не меняется со стажем (конечно если хотите это можно вручную менять).\n",
        "\n",
        "Класс Designer пишется по аналогии с классом Developer из материалов занятия.\n",
        "'''\n",
        "\n",
        "\n",
        "class Employee:\n",
        "    def __init__(self, name, seniority):\n",
        "        self.name = name\n",
        "        self.seniority = seniority\n",
        "\n",
        "        self.grade = 1\n",
        "\n",
        "    def grade_up(self):\n",
        "        \"\"\"Повышает уровень сотрудника\"\"\"\n",
        "        self.grade += 1\n",
        "\n",
        "    def publish_grade(self):\n",
        "        \"\"\"Публикация результатов аккредитации сотрудников\"\"\"\n",
        "        print(self.name, self.grade)\n",
        "\n",
        "    def check_if_it_is_time_for_upgrade(self):\n",
        "        pass\n",
        "\n",
        "\n",
        "class Designer(Employee):\n",
        "    def __init__(self, name, seniority, awards):\n",
        "        super().__init__(name, seniority + 2*awards)\n",
        "\n",
        "    def check_if_it_is_time_for_upgrade(self):\n",
        "        # для каждой аккредитации увеличиваем счетчик на 1\n",
        "        # пока считаем, что все разработчики проходят аккредитацию\n",
        "        self.seniority += 1\n",
        "\n",
        "        # условие повышения сотрудника из презентации\n",
        "        if self.seniority % 7 == 0:\n",
        "            self.grade_up()\n",
        "\n",
        "        # публикация результатов\n",
        "        return self.publish_grade()"
      ]
    },
    {
      "cell_type": "code",
      "execution_count": null,
      "id": "4ef48655",
      "metadata": {
        "id": "4ef48655"
      },
      "outputs": [],
      "source": [
        "alex = Designer('Александр', 0, 2)\n"
      ]
    },
    {
      "cell_type": "code",
      "execution_count": null,
      "id": "35e8c9d1",
      "metadata": {
        "id": "35e8c9d1",
        "outputId": "512e0305-9417-42db-b40d-fb2d732d66b5"
      },
      "outputs": [
        {
          "name": "stdout",
          "output_type": "stream",
          "text": [
            "Александр 1\n",
            "Александр 1\n",
            "Александр 2\n",
            "Александр 2\n",
            "Александр 2\n",
            "Александр 2\n",
            "Александр 2\n",
            "Александр 2\n",
            "Александр 2\n",
            "Александр 3\n",
            "Александр 3\n",
            "Александр 3\n",
            "Александр 3\n",
            "Александр 3\n",
            "Александр 3\n",
            "Александр 3\n",
            "Александр 4\n",
            "Александр 4\n",
            "Александр 4\n",
            "Александр 4\n",
            "Александр 4\n",
            "Александр 4\n",
            "Александр 4\n",
            "Александр 5\n",
            "Александр 5\n"
          ]
        }
      ],
      "source": [
        "for i in range(25):\n",
        "    alex.check_if_it_is_time_for_upgrade()"
      ]
    },
    {
      "cell_type": "code",
      "execution_count": null,
      "id": "399b84d8",
      "metadata": {
        "id": "399b84d8"
      },
      "outputs": [],
      "source": []
    }
  ],
  "metadata": {
    "kernelspec": {
      "display_name": "Python 3 (ipykernel)",
      "language": "python",
      "name": "python3"
    },
    "language_info": {
      "codemirror_mode": {
        "name": "ipython",
        "version": 3
      },
      "file_extension": ".py",
      "mimetype": "text/x-python",
      "name": "python",
      "nbconvert_exporter": "python",
      "pygments_lexer": "ipython3",
      "version": "3.10.9"
    },
    "colab": {
      "provenance": []
    }
  },
  "nbformat": 4,
  "nbformat_minor": 5
}