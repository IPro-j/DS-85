{
 "cells": [
  {
   "cell_type": "markdown",
   "id": "0d4f090a",
   "metadata": {},
   "source": [
    "# Пакет SURPRISE:\n",
    "\n",
    "используйте данные MovieLens 1M,\n",
    "можно использовать любые модели из пакета,\n",
    "получите RMSE на тестовом сете 0,87 и ниже.\n",
    "\n",
    "Комментарий преподавателя:\n",
    "В домашнем задании на датасет 1М может не хватить RAM. Можно сделать на 100K. \n",
    "Качество RMSE предлагаю считать на основе Cross-validation (5 фолдов), а не на отложенном датасете"
   ]
  },
  {
   "cell_type": "code",
   "execution_count": 53,
   "id": "06fcc6c5",
   "metadata": {},
   "outputs": [],
   "source": [
    "from surprise import KNNWithMeans, KNNBasic, SVD, SVDpp\n",
    "from surprise import Dataset\n",
    "from surprise import accuracy\n",
    "from surprise import Reader\n",
    "from surprise.model_selection import train_test_split\n",
    "from surprise.model_selection import cross_validate\n",
    "\n",
    "import pandas as pd\n",
    "import matplotlib.pyplot as plt\n"
   ]
  },
  {
   "cell_type": "code",
   "execution_count": 10,
   "id": "1a35817e",
   "metadata": {},
   "outputs": [],
   "source": [
    "#Грузим данные, оставляем нужные столбцы, исследуем данные\n",
    "\n",
    "df = pd.read_csv('ratings.dat', names=['userID', 'movieID', 'rating', 'time'], usecols=['userID', 'movieID', 'rating'], \n",
    "                 delimiter='::', engine= 'python')"
   ]
  },
  {
   "cell_type": "code",
   "execution_count": 11,
   "id": "a73305f4",
   "metadata": {},
   "outputs": [
    {
     "data": {
      "text/html": [
       "<div>\n",
       "<style scoped>\n",
       "    .dataframe tbody tr th:only-of-type {\n",
       "        vertical-align: middle;\n",
       "    }\n",
       "\n",
       "    .dataframe tbody tr th {\n",
       "        vertical-align: top;\n",
       "    }\n",
       "\n",
       "    .dataframe thead th {\n",
       "        text-align: right;\n",
       "    }\n",
       "</style>\n",
       "<table border=\"1\" class=\"dataframe\">\n",
       "  <thead>\n",
       "    <tr style=\"text-align: right;\">\n",
       "      <th></th>\n",
       "      <th>userID</th>\n",
       "      <th>movieID</th>\n",
       "      <th>rating</th>\n",
       "    </tr>\n",
       "  </thead>\n",
       "  <tbody>\n",
       "    <tr>\n",
       "      <th>0</th>\n",
       "      <td>1</td>\n",
       "      <td>1193</td>\n",
       "      <td>5</td>\n",
       "    </tr>\n",
       "    <tr>\n",
       "      <th>1</th>\n",
       "      <td>1</td>\n",
       "      <td>661</td>\n",
       "      <td>3</td>\n",
       "    </tr>\n",
       "    <tr>\n",
       "      <th>2</th>\n",
       "      <td>1</td>\n",
       "      <td>914</td>\n",
       "      <td>3</td>\n",
       "    </tr>\n",
       "    <tr>\n",
       "      <th>3</th>\n",
       "      <td>1</td>\n",
       "      <td>3408</td>\n",
       "      <td>4</td>\n",
       "    </tr>\n",
       "    <tr>\n",
       "      <th>4</th>\n",
       "      <td>1</td>\n",
       "      <td>2355</td>\n",
       "      <td>5</td>\n",
       "    </tr>\n",
       "  </tbody>\n",
       "</table>\n",
       "</div>"
      ],
      "text/plain": [
       "   userID  movieID  rating\n",
       "0       1     1193       5\n",
       "1       1      661       3\n",
       "2       1      914       3\n",
       "3       1     3408       4\n",
       "4       1     2355       5"
      ]
     },
     "execution_count": 11,
     "metadata": {},
     "output_type": "execute_result"
    }
   ],
   "source": [
    "df.head()"
   ]
  },
  {
   "cell_type": "code",
   "execution_count": 12,
   "id": "7ff7d6e3",
   "metadata": {},
   "outputs": [
    {
     "name": "stdout",
     "output_type": "stream",
     "text": [
      "<class 'pandas.core.frame.DataFrame'>\n",
      "RangeIndex: 1000209 entries, 0 to 1000208\n",
      "Data columns (total 3 columns):\n",
      " #   Column   Non-Null Count    Dtype\n",
      "---  ------   --------------    -----\n",
      " 0   userID   1000209 non-null  int64\n",
      " 1   movieID  1000209 non-null  int64\n",
      " 2   rating   1000209 non-null  int64\n",
      "dtypes: int64(3)\n",
      "memory usage: 22.9 MB\n"
     ]
    }
   ],
   "source": [
    "df.info()"
   ]
  },
  {
   "cell_type": "code",
   "execution_count": 17,
   "id": "021e8809",
   "metadata": {},
   "outputs": [
    {
     "name": "stdout",
     "output_type": "stream",
     "text": [
      "users: 6040, movies: 3706\n"
     ]
    }
   ],
   "source": [
    "print(f'users: {df.userID.nunique()}, movies: {df.movieID.nunique()}')"
   ]
  },
  {
   "cell_type": "code",
   "execution_count": 24,
   "id": "2a822a1a",
   "metadata": {},
   "outputs": [
    {
     "data": {
      "text/plain": [
       "<BarContainer object of 5 artists>"
      ]
     },
     "execution_count": 24,
     "metadata": {},
     "output_type": "execute_result"
    },
    {
     "data": {
      "image/png": "[encoded data removed]",
      "text/plain": [
       "<Figure size 640x480 with 1 Axes>"
      ]
     },
     "metadata": {},
     "output_type": "display_data"
    }
   ],
   "source": [
    "df_ = df.groupby('rating').agg({'userID': 'count'}).reset_index()\n",
    "\n",
    "plt.bar(df_['rating'], df_['userID'])"
   ]
  },
  {
   "cell_type": "markdown",
   "id": "c402ed3a",
   "metadata": {},
   "source": [
    "# Пробуем разные модели, ищем оптимальную"
   ]
  },
  {
   "cell_type": "code",
   "execution_count": 25,
   "id": "c63fa73d",
   "metadata": {},
   "outputs": [],
   "source": [
    "reader = Reader(rating_scale=(1.0, 5.0))\n",
    "data = Dataset.load_from_df(df, reader)"
   ]
  },
  {
   "cell_type": "code",
   "execution_count": 43,
   "id": "529db5af",
   "metadata": {},
   "outputs": [],
   "source": [
    "model = KNNWithMeans(k=100, sim_options={\n",
    "    'name': 'pearson_baseline', \"shrinkage\": 0,\n",
    "    'user_based': False  # compute  similarities between users\n",
    "})"
   ]
  },
  {
   "cell_type": "code",
   "execution_count": 44,
   "id": "4ab732fe",
   "metadata": {},
   "outputs": [
    {
     "name": "stdout",
     "output_type": "stream",
     "text": [
      "Estimating biases using als...\n",
      "Computing the pearson_baseline similarity matrix...\n",
      "Done computing similarity matrix.\n",
      "Estimating biases using als...\n",
      "Computing the pearson_baseline similarity matrix...\n",
      "Done computing similarity matrix.\n",
      "Estimating biases using als...\n",
      "Computing the pearson_baseline similarity matrix...\n",
      "Done computing similarity matrix.\n",
      "Estimating biases using als...\n",
      "Computing the pearson_baseline similarity matrix...\n",
      "Done computing similarity matrix.\n",
      "Estimating biases using als...\n",
      "Computing the pearson_baseline similarity matrix...\n",
      "Done computing similarity matrix.\n",
      "Evaluating RMSE of algorithm KNNWithMeans on 5 split(s).\n",
      "\n",
      "                  Fold 1  Fold 2  Fold 3  Fold 4  Fold 5  Mean    Std     \n",
      "RMSE (testset)    0.8776  0.8782  0.8786  0.8803  0.8771  0.8784  0.0011  \n",
      "Fit time          42.07   53.45   42.88   41.33   41.37   44.22   4.65    \n",
      "Test time         97.25   98.48   76.43   74.85   74.44   84.29   11.11   \n"
     ]
    }
   ],
   "source": [
    "cv_res = cross_validate(model, data, measures=['RMSE'], cv=5, verbose=True)"
   ]
  },
  {
   "cell_type": "code",
   "execution_count": 47,
   "id": "ade6a503",
   "metadata": {},
   "outputs": [
    {
     "data": {
      "text/plain": [
       "{'test_rmse': array([0.87764624, 0.87824173, 0.87862853, 0.88028502, 0.87709518]),\n",
       " 'fit_time': (42.065141439437866,\n",
       "  53.448055267333984,\n",
       "  42.879342794418335,\n",
       "  41.332430362701416,\n",
       "  41.36785387992859),\n",
       " 'test_time': (97.25349283218384,\n",
       "  98.48187232017517,\n",
       "  76.43059825897217,\n",
       "  74.84911823272705,\n",
       "  74.4364423751831)}"
      ]
     },
     "execution_count": 47,
     "metadata": {},
     "output_type": "execute_result"
    }
   ],
   "source": [
    "cv_res"
   ]
  },
  {
   "cell_type": "code",
   "execution_count": 48,
   "id": "8ce8357c",
   "metadata": {},
   "outputs": [],
   "source": [
    "model = KNNBasic(k=50, sim_options={'name': 'pearson_baseline', 'shrinkage': 0, 'user_based': True, 'verbose' : True})"
   ]
  },
  {
   "cell_type": "code",
   "execution_count": 49,
   "id": "27e7bbdc",
   "metadata": {},
   "outputs": [
    {
     "name": "stdout",
     "output_type": "stream",
     "text": [
      "Estimating biases using als...\n",
      "Computing the pearson_baseline similarity matrix...\n",
      "Done computing similarity matrix.\n",
      "Estimating biases using als...\n",
      "Computing the pearson_baseline similarity matrix...\n",
      "Done computing similarity matrix.\n",
      "Estimating biases using als...\n",
      "Computing the pearson_baseline similarity matrix...\n",
      "Done computing similarity matrix.\n",
      "Estimating biases using als...\n",
      "Computing the pearson_baseline similarity matrix...\n",
      "Done computing similarity matrix.\n",
      "Estimating biases using als...\n",
      "Computing the pearson_baseline similarity matrix...\n",
      "Done computing similarity matrix.\n",
      "Evaluating RMSE of algorithm KNNBasic on 5 split(s).\n",
      "\n",
      "                  Fold 1  Fold 2  Fold 3  Fold 4  Fold 5  Mean    Std     \n",
      "RMSE (testset)    0.9441  0.9434  0.9455  0.9487  0.9459  0.9455  0.0019  \n",
      "Fit time          91.63   91.47   96.09   99.96   95.78   94.99   3.17    \n",
      "Test time         116.45  121.45  136.80  129.79  126.99  126.30  6.98    \n"
     ]
    }
   ],
   "source": [
    "cv_res = cross_validate(model, data, measures=['RMSE'], cv=5, verbose=True)"
   ]
  },
  {
   "cell_type": "code",
   "execution_count": 51,
   "id": "389f5130",
   "metadata": {},
   "outputs": [],
   "source": [
    "model = SVD()"
   ]
  },
  {
   "cell_type": "code",
   "execution_count": 52,
   "id": "e51d41c1",
   "metadata": {},
   "outputs": [
    {
     "name": "stdout",
     "output_type": "stream",
     "text": [
      "Evaluating RMSE of algorithm SVD on 5 split(s).\n",
      "\n",
      "                  Fold 1  Fold 2  Fold 3  Fold 4  Fold 5  Mean    Std     \n",
      "RMSE (testset)    0.8723  0.8746  0.8756  0.8719  0.8721  0.8733  0.0015  \n",
      "Fit time          10.35   11.77   11.96   10.94   10.79   11.16   0.61    \n",
      "Test time         2.33    2.46    2.03    2.18    2.07    2.21    0.16    \n"
     ]
    }
   ],
   "source": [
    "cv_res = cross_validate(model, data, measures=['RMSE'], cv=5, verbose=True)"
   ]
  },
  {
   "cell_type": "code",
   "execution_count": 54,
   "id": "3b8c4217",
   "metadata": {},
   "outputs": [],
   "source": [
    "model = SVDpp()"
   ]
  },
  {
   "cell_type": "code",
   "execution_count": 55,
   "id": "bbcc6695",
   "metadata": {},
   "outputs": [
    {
     "name": "stdout",
     "output_type": "stream",
     "text": [
      "Evaluating RMSE of algorithm SVDpp on 5 split(s).\n",
      "\n",
      "                  Fold 1  Fold 2  Fold 3  Fold 4  Fold 5  Mean    Std     \n",
      "RMSE (testset)    0.8612  0.8596  0.8641  0.8624  0.8605  0.8616  0.0016  \n",
      "Fit time          418.37  451.59  422.01  405.47  398.16  419.12  18.38   \n",
      "Test time         76.91   81.79   72.52   69.66   69.52   74.08   4.69    \n"
     ]
    }
   ],
   "source": [
    "cv_res = cross_validate(model, data, measures=['RMSE'], cv=5, verbose=True)"
   ]
  },
  {
   "cell_type": "code",
   "execution_count": null,
   "id": "ac7fc00d",
   "metadata": {},
   "outputs": [],
   "source": []
  }
 ],
 "metadata": {
  "kernelspec": {
   "display_name": "Python 3 (ipykernel)",
   "language": "python",
   "name": "python3"
  },
  "language_info": {
   "codemirror_mode": {
    "name": "ipython",
    "version": 3
   },
   "file_extension": ".py",
   "mimetype": "text/x-python",
   "name": "python",
   "nbconvert_exporter": "python",
   "pygments_lexer": "ipython3",
   "version": "3.10.9"
  }
 },
 "nbformat": 4,
 "nbformat_minor": 5
}
