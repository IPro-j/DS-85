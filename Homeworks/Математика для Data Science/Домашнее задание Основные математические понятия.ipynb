{
  "cells": [
    {
      "cell_type": "markdown",
      "metadata": {
        "id": "_kX74ytuOfgy"
      },
      "source": [
        "# Домашнее задание \"Основные математические понятия\"."
      ]
    },
    {
      "cell_type": "markdown",
      "metadata": {
        "id": "nW5C45enfdcu"
      },
      "source": []
    },
    {
      "cell_type": "markdown",
      "metadata": {
        "id": "t69IZulqTZMz"
      },
      "source": [
        "## Уровень 0:\n"
      ]
    },
    {
      "cell_type": "markdown",
      "metadata": {
        "id": "rzDIWhwiKxdO"
      },
      "source": [
        "Представим фильмы в виде бинарных векторов (numpy array) используя следующие признаки:\n",
        "\n",
        "[Комедия, Боевик, Исторический, Бред Питт, Бенедикт Камбербэтч, Квентин Тарантино]\n",
        "\n",
        "[Игра в имитацию](https://www.kinopoisk.ru/film/635772/)\n",
        "\n",
        "[Ярость](https://www.kinopoisk.ru/film/740644/)\n",
        "\n",
        "[12 лет рабства](https://www.kinopoisk.ru/film/606646/)\n",
        "\n",
        "[Однажды в Голливуде](https://www.kinopoisk.ru/film/1047883/)\n",
        "\n",
        "```\n",
        "film_1 = np.array([0,0,0,0,1,0])      # Игра в имитацию\n",
        "\n",
        "film_2 = np.array([0,1,0,1,0,0])      # Ярость\n",
        "\n",
        "film_3 = np.array([0,0,1,1,1,0])      # 12 лет рабства\n",
        "\n",
        "film_4 = np.array([1,0,0,1,0,1])      # Однажды в Голливуде\n",
        "```\n",
        "\n"
      ]
    },
    {
      "cell_type": "code",
      "execution_count": null,
      "metadata": {
        "id": "eawtOZO0few8"
      },
      "outputs": [],
      "source": [
        "import numpy as np\n",
        "\n",
        "film_1 = np.array([0,0,0,0,1,0])      # Игра в имитацию\n",
        "\n",
        "film_2 = np.array([0,1,0,1,0,0])      # Ярость\n",
        "\n",
        "film_3 = np.array([0,0,1,1,1,0])      # 12 лет рабства\n",
        "\n",
        "film_4 = np.array([1,0,0,1,0,1])      # Однажды в Голливуде"
      ]
    },
    {
      "cell_type": "markdown",
      "metadata": {
        "id": "9JUikPzroAL8"
      },
      "source": [
        "### Задание 1"
      ]
    },
    {
      "cell_type": "markdown",
      "metadata": {
        "id": "ya8BlSO5nQ9a"
      },
      "source": [
        "Найти угол между векторами-фильмами \"Ярость\" и \"12 лет рабства\". Результатом будет являться косинусная мера, которую можно использовать для определения похожести векторов."
      ]
    },
    {
      "cell_type": "code",
      "execution_count": null,
      "metadata": {
        "id": "p2gC3FEFnY08",
        "colab": {
          "base_uri": "https://localhost:8080/"
        },
        "outputId": "6a0d46bc-3571-417e-b78d-35da94e0974d"
      },
      "outputs": [
        {
          "output_type": "execute_result",
          "data": {
            "text/plain": [
              "0.40824829046386296"
            ]
          },
          "metadata": {},
          "execution_count": 2
        }
      ],
      "source": [
        "#np.rad2deg(np.arccos(np.dot(film_2,film_3)/(np.linalg.norm(film_2)*np.linalg.norm(film_3))))\n",
        "\n",
        "np.dot(film_2,film_3)/(np.linalg.norm(film_2)*np.linalg.norm(film_3))"
      ]
    },
    {
      "cell_type": "markdown",
      "metadata": {
        "id": "qZxS_tEVTapE"
      },
      "source": [
        "## Уровень 1:"
      ]
    },
    {
      "cell_type": "markdown",
      "metadata": {
        "id": "gUB5Tx31oDZB"
      },
      "source": [
        "### Задание 2"
      ]
    },
    {
      "cell_type": "markdown",
      "metadata": {
        "id": "Jh-pEPj-TcDQ"
      },
      "source": [
        "Вычислить с помощью Python значение первой производной для функции $8x(x+3)^2$ в точке $x=1$\n"
      ]
    },
    {
      "cell_type": "code",
      "execution_count": null,
      "metadata": {
        "id": "uco5UzhWoHAP"
      },
      "outputs": [],
      "source": [
        "import sympy as sym\n",
        "\n",
        "x = sym.Symbol('x')\n"
      ]
    },
    {
      "cell_type": "code",
      "execution_count": null,
      "metadata": {
        "colab": {
          "base_uri": "https://localhost:8080/",
          "height": 39
        },
        "id": "6jZD84YzWeG9",
        "outputId": "fd2978a9-e85a-41bf-ccd9-800e7d2444d8"
      },
      "outputs": [
        {
          "output_type": "execute_result",
          "data": {
            "text/plain": [
              "8*x*(x + 3)**2"
            ],
            "text/latex": "$\\displaystyle 8 x \\left(x + 3\\right)^{2}$"
          },
          "metadata": {},
          "execution_count": 5
        }
      ],
      "source": [
        "8*x*(x+3)**2"
      ]
    },
    {
      "cell_type": "code",
      "execution_count": null,
      "metadata": {
        "colab": {
          "base_uri": "https://localhost:8080/",
          "height": 41
        },
        "id": "5GrbkERPWeG-",
        "outputId": "c55249dc-14e4-4e6a-b8b0-a49b5693fc63"
      },
      "outputs": [
        {
          "output_type": "execute_result",
          "data": {
            "text/plain": [
              "3*x*(6*x + 3)*(x**2 + x)**2 + 3*(x**2 + x)**3"
            ],
            "text/latex": "$\\displaystyle 3 x \\left(6 x + 3\\right) \\left(x^{2} + x\\right)^{2} + 3 \\left(x^{2} + x\\right)^{3}$"
          },
          "metadata": {},
          "execution_count": 6
        }
      ],
      "source": [
        "res = sym.diff(3*x*(x**2+x)**3, x)\n",
        "res"
      ]
    },
    {
      "cell_type": "code",
      "execution_count": null,
      "metadata": {
        "colab": {
          "base_uri": "https://localhost:8080/",
          "height": 37
        },
        "id": "t7du5IAvWeG-",
        "outputId": "3b1f05e7-d7c0-453d-bd1c-93833b4a34db"
      },
      "outputs": [
        {
          "output_type": "execute_result",
          "data": {
            "text/plain": [
              "132"
            ],
            "text/latex": "$\\displaystyle 132$"
          },
          "metadata": {},
          "execution_count": 7
        }
      ],
      "source": [
        "res.subs(x, 1)"
      ]
    },
    {
      "cell_type": "markdown",
      "metadata": {
        "id": "aHk7fBooosb6"
      },
      "source": [
        "### Задание 3\n"
      ]
    },
    {
      "cell_type": "markdown",
      "metadata": {
        "id": "0MFp0SProbiw"
      },
      "source": [
        "Объединить векторы фильмов в матрицу, где каждый вектор является строкой матрицы. Умножьте вектор [1,2,3,4] на полученную матрицу"
      ]
    },
    {
      "cell_type": "code",
      "execution_count": null,
      "metadata": {
        "id": "1OeJWLrpobqU",
        "colab": {
          "base_uri": "https://localhost:8080/"
        },
        "outputId": "c9ab35fe-e9db-45d2-caab-a6291e63d6c4"
      },
      "outputs": [
        {
          "output_type": "execute_result",
          "data": {
            "text/plain": [
              "array([[0, 0, 0, 0, 1, 0],\n",
              "       [0, 1, 0, 1, 0, 0],\n",
              "       [0, 0, 1, 1, 1, 0],\n",
              "       [1, 0, 0, 1, 0, 1]])"
            ]
          },
          "metadata": {},
          "execution_count": 8
        }
      ],
      "source": [
        "A = np.array([film_1,film_2,film_3,film_4])\n",
        "\n",
        "A"
      ]
    },
    {
      "cell_type": "code",
      "execution_count": null,
      "metadata": {
        "colab": {
          "base_uri": "https://localhost:8080/"
        },
        "id": "CPvcxx15WeG-",
        "outputId": "edf6cc8b-eed7-450f-9b22-1d2b0e0f1e51"
      },
      "outputs": [
        {
          "output_type": "execute_result",
          "data": {
            "text/plain": [
              "array([4, 2, 3, 9, 4, 4])"
            ]
          },
          "metadata": {},
          "execution_count": 9
        }
      ],
      "source": [
        "np.array([1,2,3,4]) @ A"
      ]
    },
    {
      "cell_type": "code",
      "execution_count": null,
      "metadata": {
        "id": "9_GX4yLcWeG-"
      },
      "outputs": [],
      "source": []
    }
  ],
  "metadata": {
    "colab": {
      "provenance": []
    },
    "kernelspec": {
      "display_name": "Python 3 (ipykernel)",
      "language": "python",
      "name": "python3"
    },
    "language_info": {
      "codemirror_mode": {
        "name": "ipython",
        "version": 3
      },
      "file_extension": ".py",
      "mimetype": "text/x-python",
      "name": "python",
      "nbconvert_exporter": "python",
      "pygments_lexer": "ipython3",
      "version": "3.10.9"
    }
  },
  "nbformat": 4,
  "nbformat_minor": 0
}