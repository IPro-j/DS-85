{
  "cells": [
    {
      "cell_type": "markdown",
      "metadata": {
        "id": "_kX74ytuOfgy"
      },
      "source": [
        "# Домашнее задание \"Линейная алгебра. Матрицы\"."
      ]
    },
    {
      "cell_type": "markdown",
      "metadata": {
        "id": "t69IZulqTZMz"
      },
      "source": [
        "## Уровень 0:\n"
      ]
    },
    {
      "cell_type": "markdown",
      "metadata": {
        "id": "9JUikPzroAL8"
      },
      "source": [
        "### Задание 1"
      ]
    },
    {
      "cell_type": "markdown",
      "metadata": {
        "id": "ya8BlSO5nQ9a"
      },
      "source": [
        " - Создайте матрицу 3 на 3, заполненную числами от 1 до 9\n",
        " - Прибавьте к ней матрицу с единицами на диагонале\n",
        " - Умножьте полученную матрицу на вектор (1, 2, 3)\n",
        " - Вычислить транспонированную матрицу $A^T$ от полученной в результате прибавления матрицы\n",
        " - Посчитайте обратную матрицу к полученной в результате прибавления матрице\n"
      ]
    },
    {
      "cell_type": "code",
      "execution_count": null,
      "metadata": {
        "id": "xwuF5KcHSCut"
      },
      "outputs": [],
      "source": [
        "import numpy as np"
      ]
    },
    {
      "cell_type": "code",
      "execution_count": null,
      "metadata": {
        "id": "hZ34229YdNlq",
        "outputId": "e7894b20-3f6f-4897-91e7-67682f6eddaa"
      },
      "outputs": [
        {
          "data": {
            "text/plain": [
              "array([[8, 6, 4],\n",
              "       [3, 6, 5],\n",
              "       [8, 9, 8]])"
            ]
          },
          "execution_count": 13,
          "metadata": {},
          "output_type": "execute_result"
        }
      ],
      "source": [
        "A = np.random.randint(1, 10, (3,3))\n",
        "\n",
        "A\n"
      ]
    },
    {
      "cell_type": "code",
      "execution_count": null,
      "metadata": {
        "id": "qzC39OkXSCuw",
        "outputId": "ed12415c-4514-4b77-9c00-13b1765d0948"
      },
      "outputs": [
        {
          "data": {
            "text/plain": [
              "array([[9., 6., 4.],\n",
              "       [3., 7., 5.],\n",
              "       [8., 9., 9.]])"
            ]
          },
          "execution_count": 16,
          "metadata": {},
          "output_type": "execute_result"
        }
      ],
      "source": [
        "A = A + np.eye(3)\n",
        "\n",
        "A"
      ]
    },
    {
      "cell_type": "code",
      "execution_count": null,
      "metadata": {
        "id": "HadNyA9ySCux",
        "outputId": "06743c45-053c-44a5-c5d4-ca18c1b8a833"
      },
      "outputs": [
        {
          "data": {
            "text/plain": [
              "array([33., 32., 53.])"
            ]
          },
          "execution_count": 20,
          "metadata": {},
          "output_type": "execute_result"
        }
      ],
      "source": [
        "np.dot(A, np.array([1,2,3]))"
      ]
    },
    {
      "cell_type": "code",
      "execution_count": null,
      "metadata": {
        "id": "aGv71JXESCuy",
        "outputId": "730c845a-9ad1-44f7-e782-0cd6432be63f"
      },
      "outputs": [
        {
          "data": {
            "text/plain": [
              "array([[9., 3., 8.],\n",
              "       [6., 7., 9.],\n",
              "       [4., 5., 9.]])"
            ]
          },
          "execution_count": 22,
          "metadata": {},
          "output_type": "execute_result"
        }
      ],
      "source": [
        "np.transpose(A)"
      ]
    },
    {
      "cell_type": "code",
      "execution_count": null,
      "metadata": {
        "id": "4OIhg0I2SCuz",
        "outputId": "6a056f4f-0b18-4a2a-e807-23525d38b31f"
      },
      "outputs": [
        {
          "data": {
            "text/plain": [
              "array([[ 0.14516129, -0.14516129,  0.01612903],\n",
              "       [ 0.10483871,  0.39516129, -0.26612903],\n",
              "       [-0.23387097, -0.26612903,  0.36290323]])"
            ]
          },
          "execution_count": 38,
          "metadata": {},
          "output_type": "execute_result"
        }
      ],
      "source": [
        "B = np.linalg.inv(A)\n",
        "\n",
        "B"
      ]
    },
    {
      "cell_type": "code",
      "execution_count": null,
      "metadata": {
        "id": "8qLSSq4nSCu0",
        "outputId": "883e0223-c61d-488d-fed3-20d812289fa2"
      },
      "outputs": [
        {
          "data": {
            "text/plain": [
              "array([[ 1.00000000e+00, -2.22044605e-16,  0.00000000e+00],\n",
              "       [ 1.38777878e-16,  1.00000000e+00, -3.33066907e-16],\n",
              "       [ 2.49800181e-16, -5.55111512e-17,  1.00000000e+00]])"
            ]
          },
          "execution_count": 40,
          "metadata": {},
          "output_type": "execute_result"
        }
      ],
      "source": [
        "A@B"
      ]
    },
    {
      "cell_type": "markdown",
      "metadata": {
        "id": "qZxS_tEVTapE"
      },
      "source": [
        "## Уровень 1:"
      ]
    },
    {
      "cell_type": "markdown",
      "metadata": {
        "id": "gUB5Tx31oDZB"
      },
      "source": [
        "### Задание 2"
      ]
    },
    {
      "cell_type": "markdown",
      "metadata": {
        "id": "Jh-pEPj-TcDQ"
      },
      "source": [
        "Найдите собственные значения и собственные вектора матрицы:\n",
        "```\n",
        "m = np.array([[2, 2],\n",
        "              [1, 3]])\n",
        "print(m)\n",
        "```\n",
        "\n"
      ]
    },
    {
      "cell_type": "code",
      "execution_count": null,
      "metadata": {
        "id": "1OeJWLrpobqU",
        "outputId": "b42ea790-6bf7-44e3-84ed-a59f1f3ec2f1"
      },
      "outputs": [
        {
          "data": {
            "text/plain": [
              "(array([1., 4.]),\n",
              " array([[-0.89442719, -0.70710678],\n",
              "        [ 0.4472136 , -0.70710678]]))"
            ]
          },
          "execution_count": 42,
          "metadata": {},
          "output_type": "execute_result"
        }
      ],
      "source": [
        "m = np.array([[2, 2],\n",
        "              [1, 3]])\n",
        "\n",
        "np.linalg.eig(m)"
      ]
    },
    {
      "cell_type": "markdown",
      "metadata": {
        "id": "Tj14Nn3NOp8s"
      },
      "source": [
        "### Задание 3\n"
      ]
    },
    {
      "cell_type": "markdown",
      "metadata": {
        "id": "JMjSYrp4OrpG"
      },
      "source": [
        "Придумайте матрицу, у которой определитель = 1, и все элементы не равны 0.\n",
        "\n",
        "P.S. Матрица должна быть ненулевой и размерностью не менее 2!"
      ]
    },
    {
      "cell_type": "code",
      "execution_count": null,
      "metadata": {
        "id": "hRov-LJgOrz0",
        "outputId": "91e11976-0e3c-4f57-81e4-19950b2f1bd1"
      },
      "outputs": [
        {
          "data": {
            "text/plain": [
              "array([[1., 0., 0.],\n",
              "       [0., 1., 0.],\n",
              "       [0., 0., 1.]])"
            ]
          },
          "execution_count": 87,
          "metadata": {},
          "output_type": "execute_result"
        }
      ],
      "source": [
        "A = np.eye(3).transpose()\n",
        "\n",
        "#A = A + A[0]\n",
        "A\n",
        "#np.linalg.det(A)"
      ]
    },
    {
      "cell_type": "code",
      "execution_count": null,
      "metadata": {
        "id": "MJYum850SCu2",
        "outputId": "657843d3-d8f8-44fd-9931-883844bcd644"
      },
      "outputs": [
        {
          "data": {
            "text/plain": [
              "1.0000000000000002"
            ]
          },
          "execution_count": 97,
          "metadata": {},
          "output_type": "execute_result"
        }
      ],
      "source": [
        "m = np.array([ [1, 4, 1],\n",
        "               [1, 7, 2],\n",
        "               [1, 6, 2]])\n",
        "\n",
        "np.linalg.det(m)"
      ]
    },
    {
      "cell_type": "code",
      "execution_count": null,
      "metadata": {
        "id": "AmPnpDAJSCu3"
      },
      "outputs": [],
      "source": []
    }
  ],
  "metadata": {
    "colab": {
      "provenance": []
    },
    "kernelspec": {
      "display_name": "Python 3 (ipykernel)",
      "language": "python",
      "name": "python3"
    },
    "language_info": {
      "codemirror_mode": {
        "name": "ipython",
        "version": 3
      },
      "file_extension": ".py",
      "mimetype": "text/x-python",
      "name": "python",
      "nbconvert_exporter": "python",
      "pygments_lexer": "ipython3",
      "version": "3.10.9"
    }
  },
  "nbformat": 4,
  "nbformat_minor": 0
}