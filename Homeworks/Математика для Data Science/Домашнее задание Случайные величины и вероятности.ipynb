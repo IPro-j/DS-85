{
  "cells": [
    {
      "cell_type": "markdown",
      "metadata": {
        "id": "_kX74ytuOfgy"
      },
      "source": [
        "# Домашнее задание \"Случайные величины и вероятности\"."
      ]
    },
    {
      "cell_type": "markdown",
      "metadata": {
        "id": "t69IZulqTZMz"
      },
      "source": [
        "## Уровень 0:\n"
      ]
    },
    {
      "cell_type": "markdown",
      "metadata": {
        "id": "9JUikPzroAL8"
      },
      "source": [
        "### Задание 1"
      ]
    },
    {
      "cell_type": "markdown",
      "metadata": {
        "id": "-iPjA-eBHwGP"
      },
      "source": [
        "В магазин привезли устройства с 3-х разных предприятий.\n",
        "\n",
        "Соотношение устройств следующее: 20% - продукция первого предприятия, 30% - продукция второго предприятия, 50% - продукция третьего предприятия; далее, 10% продукции первого предприятия высшего сорта, на втором предприятии - 5% и на третьем - 20% продукции высшего сорта.\n",
        "\n",
        "Найти вероятность того, что случайно купленная новая продукция окажется высшего сорта."
      ]
    },
    {
      "cell_type": "code",
      "execution_count": null,
      "metadata": {
        "id": "RZ4QTueWHxyl",
        "outputId": "223f0e82-6746-4a58-ba14-64767c1a67b7"
      },
      "outputs": [
        {
          "data": {
            "text/plain": [
              "0.135"
            ]
          },
          "execution_count": 7,
          "metadata": {},
          "output_type": "execute_result"
        }
      ],
      "source": [
        "# Вероятность что будет куплена новая  продукция окажется  высшего сорта  c первого завода\n",
        "p1 = 0.2 * 0.1\n",
        "\n",
        "# Вероятность что будет куплена новая  продукция окажется  высшего сорта  cо 2го завода\n",
        "p2 = 0.3 * 0.05\n",
        "\n",
        "# Вероятность что будет куплена новая  продукция окажется  высшего сорта  c 3го завода\n",
        "p3 = 0.5 * 0.2\n",
        "\n",
        "# вероятность того, что случайно купленная новая продукция окажется высшего сорта\n",
        "P = p1 + p2 + p3\n",
        "P"
      ]
    },
    {
      "cell_type": "markdown",
      "metadata": {
        "id": "6Ff11QC3H8mR"
      },
      "source": [
        "### Задание 2\n"
      ]
    },
    {
      "cell_type": "markdown",
      "metadata": {
        "id": "ya8BlSO5nQ9a"
      },
      "source": [
        "Пусть брошены 3 уравновешенные монеты.\n",
        "\n",
        "Рассмотрим 3 события:\n",
        "\n",
        "A1 - монеты 1 и 2 упали одной и той же стороной;\n",
        "\n",
        "A2 - монеты 2 и 3 упали одной и той же стороной;\n",
        "\n",
        "A3 - монеты 1 и 3 упали одной и той же стороной.\n",
        "\n",
        "Покажите, почему эти 3 события (A1, A2, A3) являются попарно независимыми, но не являются независимыми в совокупности."
      ]
    },
    {
      "cell_type": "code",
      "execution_count": null,
      "metadata": {
        "id": "p2gC3FEFnY08"
      },
      "outputs": [],
      "source": [
        "'''\n",
        "\n",
        "если брать события парами : допустим A1 И A2 - если произошло А1 то мы не знаем произошло ли А2 и так для всех пар\n",
        "т.е. являются попарно независимыми\n",
        "\n",
        "если рассматривать совокупность и если  А1|А2 сбылось то А3 тоже сбудеться - не являются независимыми в совокупности\n",
        "\n",
        "\n",
        "Вероятность  попарных событий событий  совпадает с перемножением вероятностей этих событий\n",
        "\n",
        "для пар: 0.5 * 0.5 = 0.25  - совпадает\n",
        "\n",
        "для совокупности: 0.5 * 0.5 = 0.125 - не совпадает\n",
        "\n",
        "'''\n",
        "\n"
      ]
    },
    {
      "cell_type": "markdown",
      "metadata": {
        "id": "qZxS_tEVTapE"
      },
      "source": [
        "## Уровень 1:"
      ]
    },
    {
      "cell_type": "markdown",
      "metadata": {
        "id": "gUB5Tx31oDZB"
      },
      "source": [
        "### Задание 3\n"
      ]
    },
    {
      "cell_type": "markdown",
      "metadata": {
        "id": "Jh-pEPj-TcDQ"
      },
      "source": [
        "Изучите 3 распределения из библиотеки scipy: [Нормальное](https://docs.scipy.org/doc/scipy/reference/generated/scipy.stats.norm.html), [Экспоненциальное](https://docs.scipy.org/doc/scipy/reference/generated/scipy.stats.expon.html), [Стьюдента](https://docs.scipy.org/doc/scipy/reference/generated/scipy.stats.t.html). Используя функцию плотности распредления (`pdf`), постройте пять графиков плотностей для каждого распределения при разных параметрах. Запишите ваши наблюдения: как и на что влияют параметры у каждого распределения.\n",
        "\n",
        "Дополнительная информация [тут](https://pythonguides.com/scipy-stats/)."
      ]
    },
    {
      "cell_type": "code",
      "execution_count": null,
      "metadata": {
        "id": "uco5UzhWoHAP"
      },
      "outputs": [],
      "source": [
        "import scipy.stats\n",
        "from scipy import stats\n",
        "\n",
        "pdf=stats.norm.rvs(5,3**2)"
      ]
    },
    {
      "cell_type": "code",
      "execution_count": null,
      "metadata": {
        "id": "xlyPLdTOSzeS"
      },
      "outputs": [],
      "source": []
    }
  ],
  "metadata": {
    "colab": {
      "provenance": []
    },
    "kernelspec": {
      "display_name": "Python 3 (ipykernel)",
      "language": "python",
      "name": "python3"
    },
    "language_info": {
      "codemirror_mode": {
        "name": "ipython",
        "version": 3
      },
      "file_extension": ".py",
      "mimetype": "text/x-python",
      "name": "python",
      "nbconvert_exporter": "python",
      "pygments_lexer": "ipython3",
      "version": "3.10.9"
    }
  },
  "nbformat": 4,
  "nbformat_minor": 0
}