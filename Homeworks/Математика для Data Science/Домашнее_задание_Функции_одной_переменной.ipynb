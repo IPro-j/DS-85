{
  "cells": [
    {
      "cell_type": "code",
      "execution_count": null,
      "id": "a726f6df",
      "metadata": {
        "id": "a726f6df"
      },
      "outputs": [],
      "source": [
        "'''\n",
        "Домашнее задание \"Функции одной переменной\".\n",
        "Уровень 0:\n",
        "Задание 1\n",
        "Посчитайте значение первой и второй производной функции:\n",
        "\n",
        "𝑥5+4sin(2𝑥)+cos(3𝑥+3)\n",
        "\n",
        "В точке x = 1.\n",
        "'''\n",
        "\n",
        "import sympy as sym\n",
        "from sympy import sin, cos\n",
        "import math\n",
        "\n",
        "x = sym.Symbol('x')"
      ]
    },
    {
      "cell_type": "code",
      "execution_count": null,
      "id": "89ecd62e",
      "metadata": {
        "id": "89ecd62e",
        "outputId": "11fd1b14-d561-4de7-a071-34e11ae9de37"
      },
      "outputs": [
        {
          "data": {
            "text/latex": [
              "$\\displaystyle x^{5} + 4 \\sin{\\left(2 x \\right)} + \\cos{\\left(3 x + 3 \\right)}$"
            ],
            "text/plain": [
              "x**5 + 4*sin(2*x) + cos(3*x + 3)"
            ]
          },
          "execution_count": 22,
          "metadata": {},
          "output_type": "execute_result"
        }
      ],
      "source": [
        "x**5 + 4*sin(2*x) + cos(3*x + 3)"
      ]
    },
    {
      "cell_type": "code",
      "execution_count": null,
      "id": "0e8326e4",
      "metadata": {
        "id": "0e8326e4",
        "outputId": "27e3f438-3158-4a0d-9d5a-12a1a65c0ca0"
      },
      "outputs": [
        {
          "data": {
            "text/latex": [
              "$\\displaystyle 5 x^{4} - 3 \\sin{\\left(3 x + 3 \\right)} + 8 \\cos{\\left(2 x \\right)}$"
            ],
            "text/plain": [
              "5*x**4 - 3*sin(3*x + 3) + 8*cos(2*x)"
            ]
          },
          "execution_count": 26,
          "metadata": {},
          "output_type": "execute_result"
        }
      ],
      "source": [
        "res = sym.diff(x**5 + 4*sin(2*x) + cos(3*x + 3), x)\n",
        "res"
      ]
    },
    {
      "cell_type": "code",
      "execution_count": null,
      "id": "a35a5de5",
      "metadata": {
        "id": "a35a5de5",
        "outputId": "50d27f42-36b2-4ab4-bca3-567f2e4959d5"
      },
      "outputs": [
        {
          "data": {
            "text/latex": [
              "$\\displaystyle 2.50907180221964$"
            ],
            "text/plain": [
              "2.50907180221964"
            ]
          },
          "execution_count": 44,
          "metadata": {},
          "output_type": "execute_result"
        }
      ],
      "source": [
        "res1 = res.subs(x, 1)\n",
        "res1.subs(x, 1).evalf()"
      ]
    },
    {
      "cell_type": "code",
      "execution_count": null,
      "id": "90c51cde",
      "metadata": {
        "id": "90c51cde",
        "outputId": "325f5680-d9f8-4eb7-eb96-793058337a7f"
      },
      "outputs": [
        {
          "data": {
            "text/latex": [
              "$\\displaystyle 20 x^{3} - 16 \\sin{\\left(2 x \\right)} - 9 \\cos{\\left(3 x + 3 \\right)}$"
            ],
            "text/plain": [
              "20*x**3 - 16*sin(2*x) - 9*cos(3*x + 3)"
            ]
          },
          "execution_count": 32,
          "metadata": {},
          "output_type": "execute_result"
        }
      ],
      "source": [
        "res2 = sym.diff(res, x)\n",
        "res2"
      ]
    },
    {
      "cell_type": "code",
      "execution_count": null,
      "id": "7c78a0b6",
      "metadata": {
        "id": "7c78a0b6",
        "outputId": "91429241-d7e3-43a7-f6cb-2cdcc6249817"
      },
      "outputs": [
        {
          "data": {
            "text/latex": [
              "$\\displaystyle -3.1902914090642$"
            ],
            "text/plain": [
              "-3.19029140906420"
            ]
          },
          "execution_count": 45,
          "metadata": {},
          "output_type": "execute_result"
        }
      ],
      "source": [
        "res2.subs(x, 1).evalf()\n"
      ]
    },
    {
      "cell_type": "code",
      "execution_count": null,
      "id": "d232d403",
      "metadata": {
        "id": "d232d403"
      },
      "outputs": [],
      "source": [
        "'''\n",
        "Постройте график первой и второй производной функции:\n",
        "sin5(2𝑥+1)\n",
        "\n",
        "На отрезке [-5; 5].\n",
        "'''\n",
        "\n",
        "\n",
        "import matplotlib.pyplot as plt\n",
        "import numpy as np\n",
        "\n",
        "range_ = np.arange(-5, 6)"
      ]
    },
    {
      "cell_type": "code",
      "execution_count": null,
      "id": "ee71df3c",
      "metadata": {
        "id": "ee71df3c",
        "outputId": "064b5c5f-05a2-4fc1-cd6b-d75b6d75e0c4"
      },
      "outputs": [
        {
          "data": {
            "text/latex": [
              "$\\displaystyle \\sin^{5}{\\left(2 x + 1 \\right)}$"
            ],
            "text/plain": [
              "sin(2*x + 1)**5"
            ]
          },
          "execution_count": 61,
          "metadata": {},
          "output_type": "execute_result"
        }
      ],
      "source": [
        "\n",
        "f = sin(2*x + 1)**5\n",
        "f"
      ]
    },
    {
      "cell_type": "code",
      "execution_count": null,
      "id": "6d2e5e6e",
      "metadata": {
        "id": "6d2e5e6e",
        "outputId": "66ac8bf5-dd88-4ad9-e446-a3ec45c70f2f"
      },
      "outputs": [
        {
          "data": {
            "text/latex": [
              "$\\displaystyle 10 \\sin^{4}{\\left(2 x + 1 \\right)} \\cos{\\left(2 x + 1 \\right)}$"
            ],
            "text/plain": [
              "10*sin(2*x + 1)**4*cos(2*x + 1)"
            ]
          },
          "execution_count": 62,
          "metadata": {},
          "output_type": "execute_result"
        }
      ],
      "source": [
        "diff_1 = sym.diff(f, x)\n",
        "diff_1"
      ]
    },
    {
      "cell_type": "code",
      "execution_count": null,
      "id": "57721162",
      "metadata": {
        "id": "57721162",
        "outputId": "f8b6090e-68bd-4066-8f91-ea9da3773c26"
      },
      "outputs": [
        {
          "data": {
            "text/plain": [
              "[<matplotlib.lines.Line2D at 0x1973348b8b0>]"
            ]
          },
          "execution_count": 66,
          "metadata": {},
          "output_type": "execute_result"
        },
        {
          "data": {
            "image/png": "[encoded data removed]",
            "text/plain": [
              "<Figure size 640x480 with 1 Axes>"
            ]
          },
          "metadata": {},
          "output_type": "display_data"
        }
      ],
      "source": [
        "\n",
        "fdiff = lambdify(x, diff_1)\n",
        "plt.plot(range_, fdiff(range_))"
      ]
    },
    {
      "cell_type": "code",
      "execution_count": null,
      "id": "0b34344e",
      "metadata": {
        "id": "0b34344e",
        "outputId": "8ed330d0-b0e9-4bee-be54-ce0f8dd1e1f0"
      },
      "outputs": [
        {
          "data": {
            "text/latex": [
              "$\\displaystyle - 20 \\sin^{5}{\\left(2 x + 1 \\right)} + 80 \\sin^{3}{\\left(2 x + 1 \\right)} \\cos^{2}{\\left(2 x + 1 \\right)}$"
            ],
            "text/plain": [
              "-20*sin(2*x + 1)**5 + 80*sin(2*x + 1)**3*cos(2*x + 1)**2"
            ]
          },
          "execution_count": 67,
          "metadata": {},
          "output_type": "execute_result"
        }
      ],
      "source": [
        "diff_2 = sym.diff(diff_1, x)\n",
        "diff_2"
      ]
    },
    {
      "cell_type": "code",
      "execution_count": null,
      "id": "4be70e55",
      "metadata": {
        "id": "4be70e55",
        "outputId": "615ff73d-7038-4839-fea9-a8710500ddae"
      },
      "outputs": [
        {
          "data": {
            "text/plain": [
              "[<matplotlib.lines.Line2D at 0x19733693b80>]"
            ]
          },
          "execution_count": 68,
          "metadata": {},
          "output_type": "execute_result"
        },
        {
          "data": {
            "image/png": "[encoded data removed]",
            "text/plain": [
              "<Figure size 640x480 with 1 Axes>"
            ]
          },
          "metadata": {},
          "output_type": "display_data"
        }
      ],
      "source": [
        "fdiff = lambdify(x, diff_2)\n",
        "plt.plot(range_, fdiff(range_))"
      ]
    },
    {
      "cell_type": "code",
      "execution_count": null,
      "id": "a01927ae",
      "metadata": {
        "id": "a01927ae"
      },
      "outputs": [],
      "source": []
    }
  ],
  "metadata": {
    "kernelspec": {
      "display_name": "Python 3 (ipykernel)",
      "language": "python",
      "name": "python3"
    },
    "language_info": {
      "codemirror_mode": {
        "name": "ipython",
        "version": 3
      },
      "file_extension": ".py",
      "mimetype": "text/x-python",
      "name": "python",
      "nbconvert_exporter": "python",
      "pygments_lexer": "ipython3",
      "version": "3.10.9"
    },
    "colab": {
      "provenance": []
    }
  },
  "nbformat": 4,
  "nbformat_minor": 5
}